{
  "nbformat": 4,
  "nbformat_minor": 0,
  "metadata": {
    "colab": {
      "name": "JOB_TASk.ipynb",
      "provenance": [],
      "collapsed_sections": [],
      "authorship_tag": "ABX9TyM2o9Z10YEdXtTaqpUw+WBH",
      "include_colab_link": true
    },
    "kernelspec": {
      "name": "python3",
      "display_name": "Python 3"
    },
    "language_info": {
      "name": "python"
    }
  },
  "cells": [
    {
      "cell_type": "markdown",
      "metadata": {
        "id": "view-in-github",
        "colab_type": "text"
      },
      "source": [
        "<a href=\"https://colab.research.google.com/github/Haaz123/table_extraction/blob/main/table_extraction.ipynb\" target=\"_parent\"><img src=\"https://colab.research.google.com/assets/colab-badge.svg\" alt=\"Open In Colab\"/></a>"
      ]
    },
    {
      "cell_type": "markdown",
      "metadata": {
        "id": "HeS9ZG3PHFmB"
      },
      "source": [
        "**Purpose:**\n",
        "Detecting table(s) from image and extrating information in processable format."
      ]
    },
    {
      "cell_type": "markdown",
      "metadata": {
        "id": "VoCMeXvgIMQJ"
      },
      "source": [
        "**USED Models:**  \n",
        "\n",
        "1.   Layout Parser (Model Zoo) for details: https://layout-parser.readthedocs.io/en/latest/notes/modelzoo.html\n",
        "2.   Google OCR (Google Vision API)\n",
        "\n"
      ]
    },
    {
      "cell_type": "markdown",
      "metadata": {
        "id": "NF2rzzhIJAHi"
      },
      "source": [
        "**Pros:**\n",
        "\n",
        "1.   Can detect Multiple tables from the image(Layout detection)\n",
        "2.   Good Model for detecting images, text, tables from research papers (Need to change model map and different model from model catalauge) \n",
        "3.   GOOGLE OCR can detects text from scanned documents with higher accuracy\n",
        "**CONS:**\n",
        "\n",
        "1.   Not very accurate if just table is passed as an image\n",
        "2.   extracting text with tesseract missed mostly scanned documents text\n",
        "\n",
        "**How to improve:**\n",
        "\n",
        "Can collect vetices from google text detection method of different tables and develop a ML method for detected text placement. \n",
        "\n",
        "\n",
        "\n",
        "\n",
        "\n",
        "\n",
        "\n",
        "\n",
        "\n"
      ]
    },
    {
      "cell_type": "code",
      "metadata": {
        "id": "d-CtAjFOs1rK"
      },
      "source": [
        "def pip_installs():\n",
        "  !pip install -U layoutparser\n",
        "  !pip install 'git+https://github.com/facebookresearch/detectron2.git@v0.4#egg=detectron2' \n",
        "  !pip install layoutparser[ocr]\n",
        "  !git clone https://github.com/Layout-Parser/layout-parser.git\n",
        "  %cd layout-parser/\n",
        "  #!sudo apt install tesseract-ocr\n",
        "  !pip install spacy\n",
        "  !pip install spacy-transformers\n",
        "  !python -m spacy download en_core_web_trf\n",
        "  !pip install click==7.1.1\n",
        "  #!pip install --upgrade google-cloud-vision"
      ],
      "execution_count": 2,
      "outputs": []
    },
    {
      "cell_type": "code",
      "metadata": {
        "id": "bZeTzVRorwOZ"
      },
      "source": [
        "#pip_installs() #Run it first time while running the code once installed comment it out and res-run the runtime"
      ],
      "execution_count": 3,
      "outputs": []
    },
    {
      "cell_type": "code",
      "metadata": {
        "id": "1VXx2CSg05Sf"
      },
      "source": [
        "import cv2 \n",
        "import layoutparser as lp\n",
        "import spacy\n",
        "import os\n",
        "from google.cloud import vision\n",
        "import io\n",
        "import matplotlib.pyplot as plt\n",
        "import matplotlib.image as mpimg\n",
        "from PIL import Image\n",
        "import PIL.Image as Image\n",
        "import numpy as np\n"
      ],
      "execution_count": 4,
      "outputs": []
    },
    {
      "cell_type": "code",
      "metadata": {
        "id": "tRbIsvmGFRpl"
      },
      "source": [
        "# Load data\n",
        "img_path = \"/content/layout-parser/examples/data/Test14.png\" \n",
        "image = cv2.imread(img_path)\n",
        "image = image[..., ::-1] # converting BGR to RGB "
      ],
      "execution_count": 5,
      "outputs": []
    },
    {
      "cell_type": "code",
      "metadata": {
        "colab": {
          "base_uri": "https://localhost:8080/",
          "height": 545
        },
        "id": "dOY7v5qUFWgG",
        "outputId": "2925eb6b-f572-4069-c940-bd2101228c8e"
      },
      "source": [
        "# using the TableBank model to detect n number of tables \n",
        "model = lp.Detectron2LayoutModel('lp://TableBank/faster_rcnn_R_101_FPN_3x/config',extra_config=[\"MODEL.ROI_HEADS.SCORE_THRESH_TEST\", 0.65],\n",
        "                                 label_map={0: \"Table\"}) # Model map is given to detect table \n",
        "layout = model.detect(image) # once the model is loaded can use different images to detect table\n",
        "lp.draw_box(image, layout) # draw a box arround detected table(s)."
      ],
      "execution_count": 6,
      "outputs": [
        {
          "output_type": "stream",
          "text": [
            "/usr/local/lib/python3.7/dist-packages/torch/_tensor.py:575: UserWarning: floor_divide is deprecated, and will be removed in a future version of pytorch. It currently rounds toward 0 (like the 'trunc' function NOT 'floor'). This results in incorrect rounding for negative values.\n",
            "To keep the current behavior, use torch.div(a, b, rounding_mode='trunc'), or for actual floor division, use torch.div(a, b, rounding_mode='floor'). (Triggered internally at  /pytorch/aten/src/ATen/native/BinaryOps.cpp:467.)\n",
            "  return torch.floor_divide(self, other)\n",
            "/usr/local/lib/python3.7/dist-packages/torch/nn/functional.py:718: UserWarning: Named tensors and all their associated APIs are an experimental feature and subject to change. Please do not use them for anything important until they are released as stable. (Triggered internally at  /pytorch/c10/core/TensorImpl.h:1156.)\n",
            "  return torch.max_pool2d(input, kernel_size, stride, padding, dilation, ceil_mode)\n"
          ],
          "name": "stderr"
        },
        {
          "output_type": "execute_result",
          "data": {
            "image/png": "[encoded data removed]",
            "text/plain": [
              "<PIL.Image.Image image mode=RGB size=491x424 at 0x7F8D62773090>"
            ]
          },
          "metadata": {
            "tags": []
          },
          "execution_count": 6
        }
      ]
    },
    {
      "cell_type": "code",
      "metadata": {
        "colab": {
          "base_uri": "https://localhost:8080/"
        },
        "id": "xv8vv7oWFboP",
        "outputId": "6a266792-6ea7-453e-e087-0eea4bcc3cbe"
      },
      "source": [
        "\n",
        "text_blocks = lp.Layout([b for b in layout if b.type==\"Table\"])\n",
        "text_blocks\n"
      ],
      "execution_count": 7,
      "outputs": [
        {
          "output_type": "execute_result",
          "data": {
            "text/plain": [
              "Layout(_blocks=[TextBlock(block=Rectangle(x_1=139.82192993164062, y_1=111.7781982421875, x_2=324.5882873535156, y_2=361.02764892578125), text=None, id=None, type=Table, parent=None, next=None, score=0.9882000684738159)], page_data={})"
            ]
          },
          "metadata": {
            "tags": []
          },
          "execution_count": 7
        }
      ]
    },
    {
      "cell_type": "code",
      "metadata": {
        "id": "hdhkPibPIMLx"
      },
      "source": [
        "# store detected numbers of table(s) to n_image list\n",
        "n_image = []\n",
        "for block in text_blocks:\n",
        "    segment_image = (block\n",
        "                       .pad(left=7, right=7, top=2, bottom=2)\n",
        "                       .crop_image(image))\n",
        "        # add padding in each image segment can help\n",
        "        # improve robustness \n",
        "    n_image.append(segment_image)  \n",
        "    "
      ],
      "execution_count": 8,
      "outputs": []
    },
    {
      "cell_type": "code",
      "metadata": {
        "id": "2YL8k90uNpIK"
      },
      "source": [
        "#Google API JSON \n",
        "#will deactivate the account json after  16-8-2021 \n",
        "# For more details visit:\n",
        "#https://cloud.google.com/vision/docs/quickstart-client-libraries\n",
        "os.environ[\"GOOGLE_APPLICATION_CREDENTIALS\"] = \"/content/layout-parser/examples/text-detection-322411-a1efabf46cf4.json\" # Include JSON from your google account"
      ],
      "execution_count": 9,
      "outputs": []
    },
    {
      "cell_type": "markdown",
      "metadata": {
        "id": "ft9vo5ymFchE"
      },
      "source": [
        "# **GOOGLE VISION** \n",
        "As google vision has higher accuracy and is easy to implement\n",
        "\n",
        "---\n",
        "\n"
      ]
    },
    {
      "cell_type": "code",
      "metadata": {
        "id": "pl_Q36evk0yN"
      },
      "source": [
        "cord= []\n",
        "cord_raw_x= []\n",
        "cord_raw_y = []\n",
        "tx = []\n",
        "def detect_text(path):\n",
        "    \"\"\"Detects text in the file.\"\"\"\n",
        "    \n",
        "    client = vision.ImageAnnotatorClient()\n",
        "\n",
        "    #with io.open(path, 'rb') as image_file:\n",
        "        #content = image_file.read()\n",
        "    content = path\n",
        "\n",
        "    image = vision.Image(content=content)\n",
        "\n",
        "    response = client.text_detection(image=image)\n",
        "    texts = response.text_annotations\n",
        "    print('Texts:')\n",
        "    #print(texts)\n",
        "    for text in texts:\n",
        "        print('\\n\"{}\"'.format(text.description))\n",
        "        tx.append(str(text.description))\n",
        "        vertices = (['{},{}'.format(vertex.x, vertex.y)\n",
        "                    for vertex in text.bounding_poly.vertices])\n",
        "        for vertex in text.bounding_poly.vertices:\n",
        "          cord.append(int(vertex.x) + int(vertex.y) )\n",
        "          cord_raw_x.append(vertex.x)\n",
        "          cord_raw_y.append(vertex.y)\n",
        "        print('bounds: {}'.format(','.join(vertices)))\n",
        "        \n",
        "    if response.error.message:\n",
        "        raise Exception(\n",
        "            '{}\\nFor more info on error messages, check: '\n",
        "            'https://cloud.google.com/apis/design/errors'.format(\n",
        "                response.error.message))"
      ],
      "execution_count": 10,
      "outputs": []
    },
    {
      "cell_type": "code",
      "metadata": {
        "colab": {
          "base_uri": "https://localhost:8080/",
          "height": 336
        },
        "id": "sb2sXDvRq431",
        "outputId": "e47a3313-5448-4107-a8b8-0e8ce3b48bf8"
      },
      "source": [
        "%pylab inline\n",
        "\n",
        "\n",
        "imgplot = plt.imshow(n_image[0])\n",
        "plt.show()\n",
        "\n"
      ],
      "execution_count": 11,
      "outputs": [
        {
          "output_type": "stream",
          "text": [
            "Populating the interactive namespace from numpy and matplotlib\n"
          ],
          "name": "stdout"
        },
        {
          "output_type": "stream",
          "text": [
            "/usr/local/lib/python3.7/dist-packages/IPython/core/magics/pylab.py:161: UserWarning: pylab import has clobbered these variables: ['block']\n",
            "`%matplotlib` prevents importing * from pylab and numpy\n",
            "  \"\\n`%matplotlib` prevents importing * from pylab and numpy\"\n"
          ],
          "name": "stderr"
        },
        {
          "output_type": "display_data",
          "data": {
            "image/png": "[encoded data removed]",
            "text/plain": [
              "<Figure size 432x288 with 1 Axes>"
            ]
          },
          "metadata": {
            "tags": [],
            "needs_background": "light"
          }
        }
      ]
    },
    {
      "cell_type": "markdown",
      "metadata": {
        "id": "7b1Th3b-EikS"
      },
      "source": [
        "**Now lets convert our table to byte to feed in to our google vision API ( Internet is needed)**"
      ]
    },
    {
      "cell_type": "code",
      "metadata": {
        "colab": {
          "base_uri": "https://localhost:8080/"
        },
        "id": "GCU9Zut2vxDr",
        "outputId": "815f7afa-4e03-442a-b0ae-74623abeb0d0"
      },
      "source": [
        "img = Image.fromarray(n_image[0], 'RGB')\n",
        "pil_im = Image.fromarray(n_image[0])\n",
        "b = io.BytesIO()\n",
        "pil_im.save(b, 'jpeg')\n",
        "im_bytes = b.getvalue()\n",
        "im_bytes\n",
        "\n",
        "\n"
      ],
      "execution_count": 12,
      "outputs": [
        {
          "output_type": "execute_result",
          "data": {
            "text/plain": [
              "b'\\xff\\xd8\\xff\\xe0\\x00\\x10JFIF\\x00\\x01\\x01\\x00\\x00\\x01\\x00\\x01\\x00\\x00\\xff\\xdb\\x00C\\x00\\x08\\x06\\x06\\x07\\x06\\x05\\x08\\x07\\x07\\x07\\t\\t\\x08\\n\\x0c\\x14\\r\\x0c\\x0b\\x0b\\x0c\\x19\\x12\\x13\\x0f\\x14\\x1d\\x1a\\x1f\\x1e\\x1d\\x1a\\x1c\\x1c $.\\' \",#\\x1c\\x1c(7),01444\\x1f\\'9=82<.342\\xff\\xdb\\x00C\\x01\\t\\t\\t\\x0c\\x0b\\x0c\\x18\\r\\r\\x182!\\x1c!22222222222222222222222222222222222222222222222222\\xff\\xc0\\x00\\x11\\x08\\x00\\xfe\\x00\\xc7\\x03\\x01\"\\x00\\x02\\x11\\x01\\x03\\x11\\x01\\xff\\xc4\\x00\\x1f\\x00\\x00\\x01\\x05\\x01\\x01\\x01\\x01\\x01\\x01\\x00\\x00\\x00\\x00\\x00\\x00\\x00\\x00\\x01\\x02\\x03\\x04\\x05\\x06\\x07\\x08\\t\\n\\x0b\\xff\\xc4\\x00\\xb5\\x10\\x00\\x02\\x01\\x03\\x03\\x02\\x04\\x03\\x05\\x05\\x04\\x04\\x00\\x00\\x01}\\x01\\x02\\x03\\x00\\x04\\x11\\x05\\x12!1A\\x06\\x13Qa\\x07\"q\\x142\\x81\\x91\\xa1\\x08#B\\xb1\\xc1\\x15R\\xd1\\xf0$3br\\x82\\t\\n\\x16\\x17\\x18\\x19\\x1a%&\\'()*456789:CDEFGHIJSTUVWXYZcdefghijstuvwxyz\\x83\\x84\\x85\\x86\\x87\\x88\\x89\\x8a\\x92\\x93\\x94\\x95\\x96\\x97\\x98\\x99\\x9a\\xa2\\xa3\\xa4\\xa5\\xa6\\xa7\\xa8\\xa9\\xaa\\xb2\\xb3\\xb4\\xb5\\xb6\\xb7\\xb8\\xb9\\xba\\xc2\\xc3\\xc4\\xc5\\xc6\\xc7\\xc8\\xc9\\xca\\xd2\\xd3\\xd4\\xd5\\xd6\\xd7\\xd8\\xd9\\xda\\xe1\\xe2\\xe3\\xe4\\xe5\\xe6\\xe7\\xe8\\xe9\\xea\\xf1\\xf2\\xf3\\xf4\\xf5\\xf6\\xf7\\xf8\\xf9\\xfa\\xff\\xc4\\x00\\x1f\\x01\\x00\\x03\\x01\\x01\\x01\\x01\\x01\\x01\\x01\\x01\\x01\\x00\\x00\\x00\\x00\\x00\\x00\\x01\\x02\\x03\\x04\\x05\\x06\\x07\\x08\\t\\n\\x0b\\xff\\xc4\\x00\\xb5\\x11\\x00\\x02\\x01\\x02\\x04\\x04\\x03\\x04\\x07\\x05\\x04\\x04\\x00\\x01\\x02w\\x00\\x01\\x02\\x03\\x11\\x04\\x05!1\\x06\\x12AQ\\x07aq\\x13\"2\\x81\\x08\\x14B\\x91\\xa1\\xb1\\xc1\\t#3R\\xf0\\x15br\\xd1\\n\\x16$4\\xe1%\\xf1\\x17\\x18\\x19\\x1a&\\'()*56789:CDEFGHIJSTUVWXYZcdefghijstuvwxyz\\x82\\x83\\x84\\x85\\x86\\x87\\x88\\x89\\x8a\\x92\\x93\\x94\\x95\\x96\\x97\\x98\\x99\\x9a\\xa2\\xa3\\xa4\\xa5\\xa6\\xa7\\xa8\\xa9\\xaa\\xb2\\xb3\\xb4\\xb5\\xb6\\xb7\\xb8\\xb9\\xba\\xc2\\xc3\\xc4\\xc5\\xc6\\xc7\\xc8\\xc9\\xca\\xd2\\xd3\\xd4\\xd5\\xd6\\xd7\\xd8\\xd9\\xda\\xe2\\xe3\\xe4\\xe5\\xe6\\xe7\\xe8\\xe9\\xea\\xf2\\xf3\\xf4\\xf5\\xf6\\xf7\\xf8\\xf9\\xfa\\xff\\xda\\x00\\x0c\\x03\\x01\\x00\\x02\\x11\\x03\\x11\\x00?\\x00\\xf5\\xaf\\x10\\xea\\x9a\\xbd\\xbe\\xb9\\xa7i\\xba\\\\\\xd6P}\\xa2\\xda\\xe2\\xe2I.mZrJI\\x02*\\xa8\\x12\\xc7\\x8c\\xf9\\xc4\\x92I\\xe9Po\\xf1\\x8f\\xfd\\x04\\xb4\\x9f\\xfc\\x13\\xbf\\xff\\x00%\\xd3\\xb5\\xcf\\xf9\\x1et_\\xfb\\x07]\\xff\\x00\\xe9E\\x95^\\xd55\\x8b-\\x1a\\x18e\\xbe\\x92DY\\xa5\\x10\\xc6#\\x85\\xe5gr\\t\\n\\x15\\x01$\\xf0{UF7\\xd0M\\x99\\xfb\\xfcc\\xff\\x00A-\\'\\xff\\x00\\x04\\xef\\xff\\x00\\xc9to\\xf1\\x8f\\xfd\\x04\\xb4\\x9f\\xfc\\x13\\xbf\\xff\\x00%\\xd6\\x86\\x9b\\xacX\\xea\\xdep\\xb4\\x95\\xcb\\xc0\\xc1%\\x8aX\\x9e)#$dnG\\x01\\x86GL\\x8ej\\xf57\\x1bh\\xc5\\xcc`\\xef\\xf1\\x8f\\xfd\\x04\\xb4\\x9f\\xfc\\x13\\xbf\\xff\\x00%\\xd2$\\xde/\\x91I]OI \\x12?\\xe4\\x0e\\xfdA\\xc1\\xff\\x00\\x97\\xbfQ[\\xf5^\\xd3\\xfdC\\x7f\\xd7Y?\\xf46\\xa5d\\x172w\\xf8\\xc7\\xfe\\x82ZO\\xfe\\t\\xdf\\xff\\x00\\x92\\xe8\\xdf\\xe3\\x1f\\xfa\\ti?\\xf8\\'\\x7f\\xfeK\\xa9t\\xdf\\x14\\xe9Z\\xb9\\x8b\\xec&\\xf6d\\x94\\x90\\x92\\x8b\\t\\xc4g\\x1d~r\\x9b{\\x1e\\xf5\\xb3T\\xe0\\xe3\\xb8s\\x18;\\xfcc\\xff\\x00A-\\'\\xff\\x00\\x04\\xef\\xff\\x00\\xc9to\\xf1\\x8f\\xfd\\x04\\xb4\\x9f\\xfc\\x13\\xbf\\xff\\x00%\\xd6\\xf5\\x156\\x0b\\x98;\\xfcc\\xff\\x00A-\\'\\xff\\x00\\x04\\xef\\xff\\x00\\xc9to\\xf1\\x8f\\xfd\\x04\\xb4\\x9f\\xfc\\x13\\xbf\\xff\\x00%\\xd6\\xf5\\x14X.`\\xef\\xf1\\x8f\\xfd\\x04\\xb4\\x9f\\xfc\\x13\\xbf\\xff\\x00%\\xd1\\xbf\\xc6?\\xf4\\x12\\xd2\\x7f\\xf0N\\xff\\x00\\xfc\\x97[\\xd4Q`\\xb9\\x80\\xf3x\\xbe8\\xdaG\\xd4\\xf4\\x90\\xaa\\t\\'\\xfb\\x1d\\xf8\\x03\\xfe\\xde\\xe9w\\xf8\\xc7\\xfe\\x82ZO\\xfe\\t\\xdf\\xff\\x00\\x92\\xeb^\\xfb\\xfeA\\xf7?\\xf5\\xc9\\xbf\\x91\\xa8\\xf5=N\\xd3G\\xd3\\xe5\\xbf\\xbe\\x94\\xc5m\\x167\\xb8Fld\\x808PI\\xe4\\x8e\\xd4\\xd4o\\xa2\\x0b\\x99\\x9b\\xfcc\\xff\\x00A-\\'\\xff\\x00\\x04\\xef\\xff\\x00\\xc9to\\xf1\\x8f\\xfd\\x04\\xb4\\x9f\\xfc\\x13\\xbf\\xff\\x00%\\xd5\\xbb\\r\\x7fN\\xd4\\xaf^\\xca\\x07\\x9d.\\x921)\\x86\\xe2\\xdaX\\x1c\\xa18\\xdc\\x04\\x8a\\xa4\\x8c\\xf1\\x91Zt8[p\\xe60w\\xf8\\xc7\\xfe\\x82ZO\\xfe\\t\\xdf\\xff\\x00\\x92\\xe8\\xdf\\xe3\\x1f\\xfa\\ti?\\xf8\\'\\x7f\\xfeK\\xad\\xea)X.`\\xef\\xf1\\x8f\\xfd\\x04\\xb4\\x9f\\xfc\\x13\\xbf\\xff\\x00%\\xd1\\xbf\\xc6?\\xf4\\x12\\xd2\\x7f\\xf0N\\xff\\x00\\xfc\\x97[\\xd4Q`\\xb9\\x83\\xbf\\xc6?\\xf4\\x12\\xd2\\x7f\\xf0N\\xff\\x00\\xfc\\x97H\\xf3x\\xbe8\\xdaG\\xd4\\xf4\\x90\\xaa\\t\\'\\xfb\\x1d\\xf8\\x03\\xfe\\xde\\xeb~\\xa0\\xbe\\xff\\x00\\x90}\\xcf\\xfdro\\xe4h\\xb0\\\\\\xa7\\xa2\\xdfk\\x07\\xc4:\\x96\\x95\\xab\\\\X\\xdc\\xfd\\x9e\\xd6\\xda\\xe69m-^\\x0f\\xf5\\x8f2\\x95!\\xa4|\\xe3\\xca\\x07 \\x8e\\xa6\\x8a,\\x7f\\xe4\\xa1k?\\xf6\\n\\xb0\\xff\\x00\\xd1\\xb7tT\\x94V\\xd7?\\xe4y\\xd1\\x7f\\xec\\x1dw\\xff\\x00\\xa5\\x16U\\x9d\\xe3\\xb9\\xe1\\xb5O\\x0fOq,p\\xc3\\x1e\\xb3\\x03<\\x920UQ\\xb5\\xf9$\\xf0\\x05h\\xeb\\x9f\\xf2<\\xe8\\xbf\\xf6\\x0e\\xbb\\xff\\x00\\xd2\\x8b*\\xdc\\xad)\\xcb\\x96I\\x93-t<\\xcbW\\xd5\\x90\\xea^$\\xd7t\\xd9e\\x97O\\x16\\x96\\xb6\\x8dug(Eg\\xdew\\x11(V\\xe1U\\x86X\\x02F{\\x1c\\x1a\\xa3g{\\xab\\xcfm\\xe2t\\xd3\\xf5\\xa7\\xbb\\xfe\\xcd6\\xd7\\xd6\\x8d\\x05\\xc4\\xae\\x92m\\x04\\xc8\\x8a\\xce\\xec\\xce\\x87i_\\xbcA \\xf0:W\\xad\\xd5=R\\xc3\\xfbSM\\x9e\\xc8\\xddOl\\xb3)F\\x92\\r\\xa1\\xc2\\x9e\\xa0\\x16\\x04\\x0c\\x8e3\\x8c\\xfab\\xb7\\x8dd\\x95\\xad\\xdb\\xfa\\xfc\\xfe\\xf2yn\\xf5\\xfe\\xbf\\xa4b\\xf8&\\xee\\xe7U\\xd3n\\xf5\\x9b\\x89\\xa6x\\xb5\\x0b\\xb9%\\xb5\\x8eF8\\x8e\\x11\\xf2\\xa0\\x00\\xf4\\xce\\xdc\\xfe5\\xbdi\\xff\\x00\\x1e\\xef\\xff\\x00]d\\xff\\x00\\xd0\\xda\\x93O\\xb0\\xb7\\xd2\\xf4\\xeb{\\x0bT\\xd9oo\\x1a\\xc7\\x1a\\xe78\\x00b\\x9dg\\xfe\\xa1\\xbf\\xeb\\xac\\x9f\\xfa\\x1bVU\\x1a\\x94\\x9f.\\xc1\\x1b\\xdb]\\xce3\\xe1\\x9cZ\\x9f\\xfc\"\\x1at\\x86\\xee\\xd3\\xec?\\xbd\\xc4\"\\xd5\\xbc\\xdf\\xbe\\xdf\\xf2\\xd3\\xcc\\xc7^~\\xe7\\xb7\\xbds\\xb6\\xd7\\x9a\\xa4^\\x00\\xd1u\\x11\\x7fy \\xbd\\xbe\\t\\xa8\\\\\\\\j\\x12\\xa0H\\x83\\xb8Q\\xe6|\\xdeR\\x92\\x14\\x16P\\x0fL\\x9ek\\xd7(\\xad\\x1dk\\xc9\\xca\\xdb\\xbf\\xf3\\xfe\\xbeAo\\xd4\\xf2\\xe1\\xa9j+\\xa3[\\x19\\xf5btW\\xd6Dr\\xde[]\\xca\\xe6(1\\xf7>\\xd0\\xca\\x8c\\xc9\\xbf\\x8f0\\x13\\xc7\\x1b\\xaa\\x08u\\x9b\\x98\\xb4\\xf9nSV\\xbck\\x0b\\x7f\\x15$Mq-\\xcb\\x90\\xb6\\xdb@\\xc31?s\\x91\\xd7\\x83\\x9c\\xfb\\xd7\\xacVv\\x95\\xa3[\\xe9\\x12_\\xbd\\xbb\\xca\\xc6\\xfa\\xe9\\xae\\xa4\\xf3\\x088v\\x00\\x100\\x07\\x1c\\x0e\\xb9\\xaaU\\xa3\\xad\\xd7\\xf5\\xa0\\x9ct\\xfe\\xbc\\xff\\x00\\xcc\\xf3\\x8b\\x8dwS\\x96\\xc7P\\x9a\\xde\\xfaW\\xd3\\xcf\\x88\\xccR\\xce\\xd7o\\x12\\xc7o\\xb5J\\x8f4\\x02c\\x8c\\xb6>e\\xf5\\xf7\\xa9\\x8d\\xf6\\xa4\\xfaF\\x9e\\xab\\xab\\xbb\\xda\\xcd\\xe2\\x18\\xe0\\x8a[[\\xb9d>I\\x07t~s*\\x99T\\x1c\\xfc\\xdc\\xfag\"\\xbdJ\\x8aJ\\xb2_d\\x1ao\\xfa\\xf5<\\xb8jW\\x90[\\xdcZ\\xdcj7i\\xa5[\\xf8\\x8d\\xedn.Z\\xe5\\xf7\\xc5o\\xb4\\x15S.w*\\xef n\\xcf|g\\x9a~\\xb5\\xabM\\xa1\\xe9\\xd6z\\xd6\\x89\\xaa\\xea\\x1a\\x8e\\x9e\\xe2\\xe6\\xcb\\xf7\\xf2;\\x83#d\\xc4\\xcb\\x907\\x80\\xe3hs\\x92A\\xfb\\xc6\\xbd:\\xb2\\xb5}\\x06\\xdf[\\x96\\xc8\\xdd\\xcf?\\x91k2\\xce-\\xd0\\xa8I\\x1d~\\xe9~7\\x10=\\x01\\x03\\xd74*\\xb1ms-:\\xfd\\xdf\\xd7\\xde6\\xba\\xa0\\xb4\\xb5\\x9e\\xc7\\xc2\\xb1\\xda\\xddO%\\xc5\\xc4V\\x9be\\x96F,\\xce\\xdby$\\x9eO5\\x95\\xf1\\x1f?\\xf0\\x82j\\x1bH\\x07t8$g\\xfeZ\\xa5tw\\xdf\\xf2\\x0f\\xb9\\xff\\x00\\xaeM\\xfc\\x8dOY)\\xfb\\xea~w\\xfcn\\tYX\\xf3K\\xeb\\xadb\\xdb\\xc5Z\\xb9\\xbbh\\x9f]\\x87H\\x7f\\xecsk\\tX\\xe7\\\\\\xe5\\xce\\xd6f&@@\\xf9rF\\x07J\\xa7\\xa5\\xea:\\x84\\xd67\\x8di\\xaf\"\\xc7\\xfd\\x90^\\xe1\\xd2\\xf6\\xe2\\xfd\\xe1\\x97\\xf8d9\\x8f\\xf7M\\xf7\\xb2\\x80\\xe7\\x8c\\x81\\xf2\\xd7\\xab\\xd1Z{e\\xcbk\\x7f_\\xd7\\xe2\\x16\\xd6\\xff\\x00\\xd7C\\xc7\\x86\\xb5rt{x\\xff\\x00\\xb4\\xef\\x96\\x05\\xd6\\xed\\xa1\\x9a\\xf2\\rI\\xe7\\x8eDh\\x89q\\x1c\\x85C\\x85\\xeeT\\xe7\\x07\\xbd_:\\xa5\\xea\\xc1(\\x87S\\xbco\\r\\x7fm$GP\\x17\\x0c\\xec\\xb6\\xfb2\\xc0L~a\\x1f\\x99\\xf2\\xef\\xdd\\xc7L\\xd7\\xa0\\xea\\xda5\\xbe\\xb3\\xf6/\\xb4<\\xab\\xf6;\\xa4\\xbb\\x8f\\xcb e\\xd38\\x07 \\xf1\\xcdh\\xd5\\xba\\xf1\\xde\\xdf\\xd6\\x84\\xf2\\xbd\\xaf\\xfdjy\\\\\\xda\\x8d\\xf4\\x91\\xc5\\r\\xa6\\xa7z\\xfaKx\\x8a\\x0b{K\\xa5\\xb9b\\xd2\\xc2\\xca|\\xc4\\x12g.\\x81\\xb2\\x01$\\xf4\\xc6N8\\x8e\\xe6\\xfa\\xf6=>\\xf6\\xd9\\xb5\\xc9\\xad\\xed\\xed5\\xe9`Ssw4~dA\\x01\\x11\\x9b\\x80\\x19\\x93\\x04\\x9c\\x1688\\xc78\\xc5z\\xc5\\x15>\\xd9v\\xfe\\xb4*\\xdf\\xd7\\xdey\\r\\xc6\\xb9\\xa9O\\x1d\\x83^\\xdd\\xcf\\xa7\\xd8\\xbe\\x8e$\\xb6\\x92\\xf7U\\x92\\xd9\\x9a\\\\\\x90\\\\\\xc9\\x1c\\x7f\\xbep\\x02\\x90\\xa4r\\x0eq\\xcdzE\\x93\\xdd\\xc9\\xe18\\x9e\\xfd\\xd6K\\xb6\\xb3\\xcc\\xae\\xa8\\xc8\\x19\\xb6\\xf2v\\xb0R3\\xe8@\\xc7\\xa5kT\\x17\\xdf\\xf2\\x0f\\xb9\\xff\\x00\\xaeM\\xfc\\x8dMJ\\x8aJ\\xc9[\\xfabQ\\xb1N\\xc7\\xfeJ\\x16\\xb3\\xff\\x00`\\xab\\x0f\\xfd\\x1bwE\\x16?\\xf2P\\xb5\\x9f\\xfb\\x05X\\x7f\\xe8\\xdb\\xba+\\x98\\xd4\\xaf\\xad\\xaa\\xbf\\x8e\\xb4Ee\\x0c\\xad\\xa7]\\x82\\x08\\xc8#\\xed\\x16U\\xd0\\x7fgX\\xff\\x00\\xcf\\x9d\\xbf\\xfd\\xfa_\\xf0\\xac\\rc\\xfeG\\xcd\\x0f\\xfe\\xc1\\xf7\\x7f\\xfaQe]E\\x00V\\xfe\\xce\\xb1\\xff\\x00\\x9f;\\x7f\\xfb\\xf4\\xbf\\xe1G\\xf6u\\x8f\\xfc\\xf9\\xdb\\xff\\x00\\xdf\\xa5\\xff\\x00\\n\\xb3X>0\\xba\\xb8\\xb5\\xf0\\xf9[i\\x9e\\t.n\\xad\\xed|\\xd8\\xce\\x19\\x16Y\\x926*{\\x1d\\xacp{\\x1eh\\x0b\\x1a\\xbf\\xd9\\xd6?\\xf3\\xe7o\\xff\\x00~\\x97\\xfc*\\x0bK\\x0b6\\x85\\x8bZ@O\\x9b \\xe61\\xd09\\xf6\\xac\\xcf\\x0b4\\xb6\\xf7z\\xee\\x94\\xd7\\x17\\x13\\xc1az\\x12\\x07\\xb8\\x99\\xa5\\x90#\\xc5\\x1c\\x9bK\\xb1,\\xd8.\\xd8$\\x93\\x8c\\x0e\\xd5\\xb7g\\xfe\\xa1\\xbf\\xeb\\xac\\x9f\\xfa\\x1bP\\x02\\x7fgX\\xff\\x00\\xcf\\x9d\\xbf\\xfd\\xfa_\\xf0\\xa3\\xfb:\\xc7\\xfe|\\xed\\xff\\x00\\xef\\xd2\\xff\\x00\\x85Y\\xa2\\x80+\\x7fgX\\xff\\x00\\xcf\\x9d\\xbf\\xfd\\xfa_\\xf0\\xa3\\xfb:\\xc7\\xfe|\\xed\\xff\\x00\\xef\\xd2\\xff\\x00\\x85Y\\xa2\\x80+\\x7fgX\\xff\\x00\\xcf\\x9d\\xbf\\xfd\\xfa_\\xf0\\xa3\\xfb:\\xc7\\xfe|\\xed\\xff\\x00\\xef\\xd2\\xff\\x00\\x85Y\\xa2\\x80+\\x7fgX\\xff\\x00\\xcf\\x9d\\xbf\\xfd\\xfa_\\xf0\\xa3\\xfb:\\xc7\\xfe|\\xed\\xff\\x00\\xef\\xd2\\xff\\x00\\x85A\\xadE\\xa8M\\xa5\\xcd\\x1e\\x9bw\\x15\\x9d\\xc3\\x02<\\xf9\"\\xf36.\\x0eJ\\xae@\\xdd\\xe9\\x9e\\x07pz\\x1e\\x0fQ\\xd751\\xf0\\x8a\\xc9l\\xaff\\x1a\\xa4\\x9a\\x18\\xbb\\x9e\\xec\\xb92F\\x8b\\x10%\\xf7g;\\x99\\xb0\\xa0\\xf5\\xe5\\x8f\\xf0\\xd0\\xbf\\xcb\\xf1\\x1a\\x8d\\xda;\\xcb\\xdb\\x0b5\\xb1\\xb8e\\xb4\\x800\\x89\\x88\"1\\x90q\\xf4\\xa9\\xff\\x00\\xb3\\xac\\x7f\\xe7\\xce\\xdf\\xfe\\xfd/\\xf8R]\\x12t\\xa9\\x89\\xe4\\xf9\\r\\xff\\x00\\xa0\\xd5\\xaa\\tN\\xea\\xe5o\\xec\\xeb\\x1f\\xf9\\xf3\\xb7\\xff\\x00\\xbfK\\xfe\\x14\\x7fgX\\xff\\x00\\xcf\\x9d\\xbf\\xfd\\xfa_\\xf0\\xab5\\xce\\xf8\\xa6Id\\x9fD\\xd3\\x12\\xe2x!\\xd4/\\xbc\\xa9\\xde\\tZ9\\n,RI\\xb4:\\x90\\xcb\\x92\\x80\\x12\\x088\\xcd\\x03\\xb1\\xb3\\xfd\\x9dc\\xff\\x00>v\\xff\\x00\\xf7\\xe9\\x7f\\xc2\\x8f\\xec\\xeb\\x1f\\xf9\\xf3\\xb7\\xff\\x00\\xbfK\\xfe\\x15\\x8d\\xe1+\\xb9\\xdf\\xc3\\xb2\\xad\\xc4\\xd2\\\\=\\x95\\xd5\\xcd\\xaa\\xcb+nwH\\xa5tR\\xc7\\xb9\\xda\\xa3$\\xf2z\\xd7#cs\\xae\\xae\\x9dcs\\xa7\\xdf\\xdd\\xdc\\xeaz\\xe6\\x83qy\\xb2i\\x8b\\xa2\\xdc\\x81\\x1b!\\x8dX\\xed\\x8c\\x0f4\\xae\\x06\\x14\\xe1s\\xd34_\\xfa\\xfcF\\xa2z?\\xf6u\\x8f\\xfc\\xf9\\xdb\\xff\\x00\\xdf\\xa5\\xff\\x00\\n?\\xb3\\xac\\x7f\\xe7\\xce\\xdf\\xfe\\xfd/\\xf8W\\x9b-\\xf6\\xa0`\\xd54\\xbd!\\xfc@m\\x96\\xd6\\xce\\xe1\\xcd\\xdf\\x9co\\x14\\x19\\x8a\\xdc\\x18\\xfc\\xdf\\xde\\x02cS\\x80\\x07Pvv\\xa5:\\xb5\\xc4\\xd1M\\xa6A.\\xb2\\xd6Q\\xeb\\x11\\xc3\\r\\xb1\\x96X\\xafnbk\\x7f7\\xcb\\x12;\\x07L6_.\\xc8v\\x8c\\x16\\x19\\x00\\xb1t\\xb9\\xe9\\x1f\\xd9\\xd6?\\xf3\\xe7o\\xff\\x00~\\x97\\xfc*\\x0b\\xdb\\x0b5\\xb1\\xb8e\\xb4\\x800\\x89\\x88\"1\\x90q\\xf4\\xaeB\\xca\\xde\\xe3R\\xf0Tw2\\xdc\\xeb\\xb7\\xf2ZIq\\x1aY\\xda_\\x1by\\xc9\\x122\\xaaK&\\xe4fx\\xc0\\xdaN\\xec\\x12\\t\\xf9\\xce\\t\\xe8t[\\x99o|\\tes=\\xda\\xdd\\xcd.\\x9e\\xae\\xf7\\n\\xa5D\\x8cS\\x96\\xc1\\x03\\x19\\xfa\\x0f\\xa0\\xa0\\x06X\\xff\\x00\\xc9B\\xd6\\x7f\\xec\\x15a\\xff\\x00\\xa3n\\xe8\\xa2\\xc7\\xfeJ\\x16\\xb3\\xff\\x00`\\xab\\x0f\\xfd\\x1bwE  \\xd6?\\xe4|\\xd0\\xff\\x00\\xec\\x1fw\\xff\\x00\\xa5\\x16U\\xd4W-\\xadd\\xf8\\xebD\\xda@o\\xec\\xfb\\xbc\\x1223\\xf6\\x8b*\\xe8v^\\x7f\\xcfx?\\xef\\xc9\\xff\\x00\\xe2\\xa8\\x02\\xc5R\\xd5\\xb4\\xb85\\x9d.{\\x0b\\x93\"\\xc7(\\x18x\\xdb\\x0e\\x8c\\x08ee=\\x980\\x04{\\x8a\\x97e\\xe7\\xfc\\xf7\\x83\\xfe\\xfc\\x9f\\xfe*\\x8d\\x97\\x9f\\xf3\\xde\\x0f\\xfb\\xf2\\x7f\\xf8\\xaa\\x00\\xab\\xa3h\\xd1h\\xd6\\xf3\\xa2\\xdc\\\\]Oq3O=\\xcd\\xc1_2W \\x0c\\x9d\\xaa\\xaa0\\x02\\xa8\\x00\\x01\\x80*\\xd5\\x9f\\xfa\\x86\\xff\\x00\\xae\\xb2\\x7f\\xe8mF\\xcb\\xcf\\xf9\\xef\\x07\\xfd\\xf9?\\xfcUAh\\x97^Km\\x9a\\x10<\\xd9:\\xc4O;\\xcf\\xfbT\\x01~\\x8a\\xaf\\xb2\\xf3\\xfe{\\xc1\\xff\\x00~O\\xff\\x00\\x15F\\xcb\\xcf\\xf9\\xef\\x07\\xfd\\xf9?\\xfcU\\x00X\\xa2\\xab\\xec\\xbc\\xff\\x00\\x9e\\xf0\\x7f\\xdf\\x93\\xff\\x00\\xc5Q\\xb2\\xf3\\xfe{\\xc1\\xff\\x00~O\\xff\\x00\\x15@\\x16(\\xaa\\xfb/?\\xe7\\xbc\\x1f\\xf7\\xe4\\xff\\x00\\xf1Tl\\xbc\\xff\\x00\\x9e\\xf0\\x7f\\xdf\\x93\\xff\\x00\\xc5P\\x04\\xce\\xa1\\xd1\\x90\\xf4`A\\xc5s7\\x7f\\x0f\\xfc9\\x7f\\xe1\\xf8t\\x9b\\xcd>\\x0b\\x8f\"\\xc8YEy,1\\xbd\\xc4h\\x17\\x00\\xab\\x95\\xe0\\x8e\\xbc\\x0cg\\xb5t\\x1b/?\\xe7\\xbc\\x1f\\xf7\\xe4\\xff\\x00\\xf1Tl\\xbc\\xff\\x00\\x9e\\xf0\\x7f\\xdf\\x93\\xff\\x00\\xc5P;\\x90\\xc9ioa\\xa2Iki\\x04p[\\xc5\\x03$qD\\x81U@S\\xc0\\x03\\x81W\\xaa\\x85\\xea]\\x0b\\x1b\\x8d\\xd3BW\\xcal\\x81\\x11\\x07\\x18\\xff\\x00z\\xa7\\xd9y\\xff\\x00=\\xe0\\xff\\x00\\xbf\\'\\xff\\x00\\x8a\\xa0I[B\\xc5gk:<Z\\xcd\\xb4Q\\xbd\\xc4\\xf6\\xd3A2\\xcf\\x05\\xc5\\xb9Q$N227\\x02\\xa7 \\x90A\\x04\\x10MY\\xd9y\\xff\\x00=\\xe0\\xff\\x00\\xbf\\'\\xff\\x00\\x8a\\xa3e\\xe7\\xfc\\xf7\\x83\\xfe\\xfc\\x9f\\xfe*\\x80*\\xe9z4ZE\\x95\\xad\\xa5\\xb5\\xcd\\xc1\\x8a\\x1d\\xe5\\xf7\\x95cp\\xeeK3\\xb9\\xdb\\x9c\\x96%\\xbe\\\\\\x0c\\x9e\\x98\\xe2\\xb3\\xb4\\xef\\x06X\\xe9\\xb2J\\xc9{\\xa8H\\x86\\xdd\\xedm\\x91\\xe6\\n,\\xe2v\\xdc\\xc9\\x11E\\x0c9\\xdb\\xc9$\\x80\\xaa\\x01\\xe2\\xb6\\xf6^\\x7f\\xcfx?\\xef\\xc9\\xff\\x00\\xe2\\xa8\\xd9y\\xff\\x00=\\xe0\\xff\\x00\\xbf\\'\\xff\\x00\\x8a\\xa0\\x0c\\x8b\\x7f\\x0b$6\\xf7\\xbb\\xf5}Rk\\xdb\\xb1\\x1a\\xb6\\xa0\\xd2\"\\xce\\x82>P.\\xc4T\\xc0$\\x9c\\x15 \\xee;\\xb2\\x0e*3\\xe0\\xeb_\\xb0\\x88\\xc6\\xa1~/\\x85\\xdf\\xdb\\x7f\\xb4\\x83G\\xe7\\xf9\\xdbvn\\xfb\\x9b1\\xb3\\xe4\\xdb\\xb3\\x1b{w\\xad\\xbd\\x97\\x9f\\xf3\\xde\\x0f\\xfb\\xf2\\x7f\\xf8\\xaa6^\\x7f\\xcfx?\\xef\\xc9\\xff\\x00\\xe2\\xa8\\x03\\x16?\\t%\\xb5\\x95\\xbd\\xbd\\x86\\xb5\\xabY\\xbcFF\\x92x\\xa5\\x8d\\x9av\\x91\\xb7;H\\xae\\x8c\\x85\\x8bs\\x90\\xa0\\x8c\\x900\\x0e+K\\xecV\\xfan\\x80lm#\\x11\\xdb\\xdb\\xdb\\x18\\xe3@s\\xb5B\\xe0\\n\\xb1\\xb2\\xf3\\xfe{\\xc1\\xff\\x00~O\\xff\\x00\\x15P^\\xa5\\xd0\\xb1\\xb8\\xdd4%|\\xa6\\xc8\\x11\\x10q\\x8f\\xf7\\xa8\\x036\\xc7\\xfeJ\\x16\\xb3\\xff\\x00`\\xab\\x0f\\xfd\\x1bwE\\x16?\\xf2P\\xb5\\x9f\\xfb\\x05X\\x7f\\xe8\\xdb\\xba(\\x02\\rc\\xfeG\\xcd\\x0f\\xfe\\xc1\\xf7\\x7f\\xfaQe]Er\\xfa\\xc7\\xfc\\x8f\\x9a\\x1f\\xfd\\x83\\xee\\xff\\x00\\xf4\\xa2\\xca\\xba\\x8a\\x00*\\x0b\\xcb\\xb8\\xacm$\\xb9\\x9f\\xcc1\\xc62Dq4\\x8c}\\x82\\xa8$\\x9f`\\t\\xa9\\xe8\\xa0\\x0c\\x8f\\x0c\\xeb\\x87\\xc4Z\"j&\\xce[2\\xd3M\\x17\\x91)\\xcb\\xae\\xc9\\x19>oC\\xf2\\xe4\\x8e\\xdd2z\\xd5\\xfb?\\xf5\\r\\xff\\x00]d\\xff\\x00\\xd0\\xda\\xb3<+as\\xa6\\xe8\\xf2\\xc1w\\x17\\x97+^\\xdd\\xca\\x17p?+\\xce\\xee\\xa7\\x83\\xddX\\x1f\\xc6\\xb4\\xec\\xff\\x00\\xd47\\xfdu\\x93\\xff\\x00Cjo\\xfa\\xfc\\x03\\xab,QE\\x14\\x80(\\xa2\\x8a\\x00(\\xa2\\x8a\\x00\\xca\\xd7u\\x894\\xa8m\\x12\\xd6\\xd0]\\xde\\xde\\\\\\x0b{hZ_-K`\\xb1,\\xd8;T*\\xb1$\\x02x\\xe9\\xcdf\\xdd\\xf8\\x8fW\\xb7\\x8e\\xce\\xd54\\x18\\xdbY\\xb8I\\xa46\\x8dz\\x04k\\x1cD\\x02\\xc2P\\x84\\x9d\\xc5\\x93h*\\x0f\\xcd\\xce\\xdc\\x1aw\\x8c4C\\xab&\\x999\\xb0\\xfe\\xd1\\x8e\\xc6\\xe4\\xcb-\\x8e\\xe5\\x1fhF\\x8d\\x90\\xa8\\xdcB\\x9cn\\x07\\x0c@ \\x10k\\x02\\xc3F\\xd6\\xf4(\\xf4\\xedJ\\xd7F\\x92v\\x89oa].;\\x88\\xc3[E3\\xab\\xc4\\xa1\\x99\\x82a|\\xb5R\\x03\\x1cn\\xf9r\\x05-l\\xff\\x00\\xafO\\xeb\\xf2\\x1fc\\xb1\\x87Q\\x83W\\xf0\\xca\\xeaV\\xdb\\xbc\\x8b\\xabO9\\x03\\x0c\\x10\\x19s\\x83\\xef\\xcdi\\xd6\\x1e\\x93\\xa6I\\xa2\\xf8&\\xd7L\\x95\\xd5\\xe5\\xb5\\xb1\\x11;/B\\xc10q\\xed\\x9a\\xdc\\xaa\\x95\\xae\\xecJ\\xd8++\\\\\\xd5\\xe4\\xd2\\xa2\\xb4\\x8e\\xda\\xd5n\\xafo.\\x05\\xbd\\xb4//\\x96\\xa5\\xb6\\x96%\\x9b\\x04\\xaa\\x85V$\\x80O\\x1d9\\xadZ\\xc1\\xf15\\x9d\\xe4\\x8f\\xa4\\xea\\x166\\xadw.\\x9dz\\'kduV\\x95\\x1a7\\x8d\\xb6\\x96!r\\x04\\x9b\\xb9 \\x1cc4\\x86\\\\\\xd0uo\\xed\\xad%.\\xda\\x03o0w\\x86x\\x0bn\\xf2\\xe5F(\\xeb\\x9e2\\x03)\\xc1\\xc0\\xc8\\xc1\\xc0\\xac\\xcf\\xf8L\\xec\\x97P\\xf1\\x04/\\x0c\\x82\\xdbE\\xb6[\\x89\\xae\\x07I3\\xe6nU\\x1d\\xf6\\xf9dg=r;Q\\xa1\\xd8jv~\\x1e{g\\x89\\xado\\xef\\xa5\\xba\\xb92\\r\\x92\\xad\\x9b\\xca\\xec\\xea\\x18n\\x1b\\xc8\\xdc\\x07\\xcb\\x90H<\\xe3\\x9a\\xe7\\xa1\\xf0V\\xbf\\xbf]\\xb0\\x9e\\xf3Ok+\\xcd\\x1a;\\x18\\xa6\\x8a\\xd1\\xa2\\xdc\\xe3\\xce\\xe4\\xe6W \\x82\\xf9bA\\xdd\\xbb\\x8c\\x10r?\\xd3\\xf1\\xd3\\xfe\\x08\\xd5\\xbf\\x1f\\xc2\\xff\\x00\\xe4m\\xc1\\xe2\\xbdH\\xc5y\\x05\\xc6\\x80\\xcb\\xaa\\xc4\\x90I\\r\\xa4\\x17\\x06U\\x91&%U\\x99\\xf6\\r\\x9bY[\\x7f\\x04(\\\\\\x82\\xd5b\\xd7\\xc5El\\xb5w\\xd5,\\x96\\xda\\xebJ\\x90G46\\xf3\\x19\\xd6B\\xca\\xac\\x826\\xda\\xa5\\x8bnQ\\x82\\xa0\\xe7\\x8fBq\\\\\\xf8\\xac\\x7fik\\x96\\xda\\x04\\x90\\xeaR\\xda\\xdbX\\xc1j\\xf3@\\xec\\xbbY\\xdaI\\xbf\\xd6\\x05*<\\xc3\\xb5K\\x02v\\xf3\\x8c\\xd3\\xed\\xfc?\\xa9\\xdci\\xb6\\xc9b\\x93i\\x92[\\xcc\\xf3\\xcc5\\xa8#\\xba{\\xd9\\x99p%c\\x0c\\xe0\\x022q\\x93\\x81\\xc6\\x00\\n\\xb4\\xa5\\xb3\\xb7\\xf5\\xfd~\\xbe\\xa2]/\\xfd\\x7fO\\xf2\\xdc\\xd3\\x8b\\xc4\\xba\\x9e\\xa1\\xa3\\xe8\\xf7zV\\x86\\xb3\\xcf\\xa8Y\\x8b\\xb7Y\\xeeLP\\xc0\\xbbT\\xed2\\x88\\xdb,K\\x00\\x06\\xdep\\xc7\\x8cV\\x85\\x96\\xab\\x16\\xb9\\xe18\\xf5Hch\\xe3\\xba\\xb52\\x84r\\t\\\\\\xafC\\x8e?*\\xe3\\xd2\\xc3\\xc5V~\\x12\\xf0\\xfe\\x81>\\x9bw=\\xba\\xda*j2i\\x8f\\x0cR\\xa8U\\x01`\\x06I\\x86\\t\\xe44\\x8az\\x0f\\x94\\x0c\\xe5{e\\n\\xbe\\x1e*\\x96Mb\\x8blUm[fb\\x01p\\x17\\xe4%x\\xf6$U\\xbb]\\xdb\\xbf\\xf5\\xfd|\\xc5\\xd8\\xcf\\xb1\\xff\\x00\\x92\\x85\\xac\\xff\\x00\\xd8*\\xc3\\xff\\x00F\\xdd\\xd1E\\x8f\\xfc\\x94-g\\xfe\\xc1V\\x1f\\xfa6\\xee\\x8a\\x91\\x95\\xf5\\xa6\\x0b\\xe3\\xad\\x11\\x8ep4\\xfb\\xb3\\xc0\\xc9\\xff\\x00\\x8f\\x8b.\\xd5\\xd0\\xfd\\xb2/\\xee\\xcf\\xff\\x00~\\x1f\\xfc+\\x9f\\xd6?\\xe4|\\xd0\\xff\\x00\\xec\\x1fw\\xff\\x00\\xa5\\x16U\\xd4P\\x05\\x7f\\xb6E\\xfd\\xd9\\xff\\x00\\xef\\xc3\\xff\\x00\\x85\\x1fl\\x8b\\xfb\\xb3\\xff\\x00\\xdf\\x87\\xff\\x00\\n\\xb1Q\\xdc\\\\Cio%\\xc5\\xcc\\xd1\\xc3\\x04J^I$`\\xaa\\x8a:\\x92O\\x00P\\x04\\x7fl\\x8b\\xfb\\xb3\\xff\\x00\\xdf\\x87\\xff\\x00\\n\\x82\\xd2\\xee5\\x85\\x81Y\\xbf\\xd6\\xc8x\\x85\\xcf\\xf1\\x9fj\\x9a\\xc3Q\\xb1\\xd5m\\x16\\xebN\\xbd\\xb7\\xbc\\xb6b@\\x9a\\xdeU\\x91\\t\\x1dFT\\x91Kg\\xfe\\xa1\\xbf\\xeb\\xac\\x9f\\xfa\\x1bP\\x01\\xf6\\xc8\\xbf\\xbb?\\xfd\\xf8\\x7f\\xf0\\xa3\\xed\\x91\\x7fv\\x7f\\xfb\\xf0\\xff\\x00\\xe1V(\\xa0\\n\\xff\\x00l\\x8b\\xfb\\xb3\\xff\\x00\\xdf\\x87\\xff\\x00\\n>\\xd9\\x17\\xf7g\\xff\\x00\\xbf\\x0f\\xfe\\x15b\\x8a\\x00\\xaf\\xf6\\xc8\\xbf\\xbb?\\xfd\\xf8\\x7f\\xf0\\xa3\\xed\\x91\\x7fv\\x7f\\xfb\\xf0\\xff\\x00\\xe1V(\\xa0\\n\\xff\\x00l\\x8b\\xfb\\xb3\\xff\\x00\\xdf\\x87\\xff\\x00\\n>\\xd9\\x17\\xf7g\\xff\\x00\\xbf\\x0f\\xfe\\x14__\\xd9\\xe9\\x96\\x8fw\\x7fw\\x05\\xa5\\xb2c|\\xd7\\x12\\x08\\xd1rp2\\xc4\\xe0sP]k\\x9aM\\x8d\\x94\\x17\\xb7z\\xa5\\x95\\xbd\\xac\\xe4\\x08g\\x9a\\xe1\\x11$\\xc8\\xc8\\xda\\xc4\\xe0\\xe4r1@\\x05\\xed\\xdcmcp\\xa1f\\xc9\\x89\\x870\\xb8\\x1d=qS\\xfd\\xb2/\\xee\\xcf\\xff\\x00~\\x1f\\xfc(\\xbe\\xff\\x00\\x90u\\xcf\\xfdro\\xe4j\\xc5\\x00W\\xfbd_\\xdd\\x9f\\xfe\\xfc?\\xf8Q\\xf6\\xc8\\xbf\\xbb?\\xfd\\xf8\\x7f\\xf0\\xab\\x15\\x05\\xe5\\xed\\xae\\x9di%\\xdd\\xed\\xcc6\\xd6\\xd1\\x8c\\xbc\\xd3H\\x11\\x14t\\xe5\\x8f\\x02\\x80\\x13\\xed\\x91\\x7fv\\x7f\\xfb\\xf0\\xff\\x00\\xe1G\\xdb\"\\xfe\\xec\\xff\\x00\\xf7\\xe1\\xff\\x00\\xc2\\xa4\\xb7\\xb8\\x86\\xee\\xde;\\x8bi\\xa3\\x9a\\tT<rF\\xc1\\x95\\xd4\\xf2\\x08#\\x82\\x0f\\xadV\\xb6\\xd64\\xcb\\xdb\\xdb\\x8b+]F\\xce{\\xbbn\\'\\x82)\\xd5\\xa4\\x8b\\x9c|\\xca\\x0eW\\x9fZ\\x00\\x97\\xed\\x91\\x7fv\\x7f\\xfb\\xf0\\xff\\x00\\xe1G\\xdb\"\\xfe\\xec\\xff\\x00\\xf7\\xe1\\xff\\x00\\xc2\\xab[x\\x83E\\xbc\\xb5\\xb9\\xba\\xb5\\xd5\\xec\\'\\xb7\\xb5\\xcf\\xda%\\x8a\\xe5\\x19!\\xc0\\xc9\\xdeA\\xc2\\xf1\\xebI\\x17\\x88\\xb4I\\xf4\\xc9u8u\\x9d>M>#\\xb6K\\xa4\\xbaC\\x12\\x1e8.\\x0e\\x07Q\\xdf\\xb8\\xa0\\x0b_l\\x8b\\xfb\\xb3\\xff\\x00\\xdf\\x87\\xff\\x00\\n\\x82\\xf6\\xee6\\xb1\\xb8P\\xb3d\\xc4\\xc3\\x98\\\\\\x0e\\x9e\\xb8\\xa6O\\xe2-\\x12\\xd7M\\x87Q\\xb8\\xd6t\\xf8lg8\\x8a\\xe6K\\xa4X\\xa4<\\xfd\\xd6\\'\\x07\\xa1\\xe8{U\\x9b\\xc7Y4\\xc9\\xdd\\x182\\xb4,C\\x03\\x90F\\xde\\xb4\\x01\\x8fc\\xff\\x00%\\x0bY\\xff\\x00\\xb0U\\x87\\xfe\\x8d\\xbb\\xa2\\x8b\\x1f\\xf9(Z\\xcf\\xfd\\x82\\xac?\\xf4m\\xdd\\x14\\x01\\x06\\xb1\\xff\\x00#\\xe6\\x87\\xff\\x00`\\xfb\\xbf\\xfd(\\xb2\\xae\\xa2\\xb9}c\\xfeG\\xcd\\x0f\\xfe\\xc1\\xf7\\x7f\\xfaQe]E\\x00\\x15\\x95\\xe27\\xd2\\xe1\\xd1\\xa4\\x9bXC%\\xa4RG\\'\\x96\\x03\\x12\\xf2+\\x83\\x1a\\x85^X\\x97\\x0b\\x85\\xeep+V\\xaa\\xea\\x1ae\\x86\\xadk\\xf6]J\\xc6\\xda\\xf6\\xdc\\x90\\xdeU\\xccK\"dt8`Fh\\x05\\xe6exgN\\xbb\\x81\\xb5\\x1dN\\xfa\\x05\\xb5\\xba\\xd5.\\x05\\xc3Z)\\r\\xe4\\x00\\x8a\\x8a\\x0b\\x0e\\x19\\xc8PX\\x8e2p2\\x06N\\xbd\\x9f\\xfa\\x86\\xff\\x00\\xae\\xb2\\x7f\\xe8mQi\\xba6\\x97\\xa3D\\xf1iZm\\x9d\\x8cn\\xdb\\x9d-`X\\x83\\x1e\\x99!@\\xc9\\xa9l\\xff\\x00\\xd47\\xfdu\\x93\\xff\\x00Cj\\x03\\xd4\\xb1E\\x14P\\x01E\\x14P\\x01E\\x14P\\x07?\\xe2\\x9b)n_G\\x9e\\xdaK#wi|&\\x82\\xde\\xf2S\\x1a\\\\7\\x96\\xeb\\xb40\\x0cC\\x00\\xc5\\x81\\n\\xdfw\\xa7q\\xc7h\\xb6\\xb7Moi\\xaa$\\xdaD\\x92E.\\xa8\\x8bou)\\x8e?!\\xe7\\x05\\xe4\\x8f\\x86%Wn1\\x80\\n\\xbfU\\xcf>\\x91\\x7f\\xa7Yj\\x96\\x8di\\xa8Y\\xdb\\xdd\\xdb9\\x05\\xa1\\xb8\\x89dBA\\xc8\\xca\\x90GZ\\x82\\xefB\\xd2/\\xec\\xe0\\xb3\\xbc\\xd2\\xacn-m\\xf0a\\x86ktt\\x8b\\x03\\x03j\\x91\\x81\\x81\\xc7\\x14\\xad\\xa3C\\xb9\\x8f\\xe1A0\\xf8g\\xa5\\x8b\\x82L\\x9f\\xd9\\x89\\x92\\xc0\\x82F\\xce:\\xf4\\xe3\\x15\\xd4U{\\xef\\xf9\\x07\\\\\\xff\\x00\\xd7&\\xfeF\\xacUI\\xdd\\xb6J\\xd8+\\x9a\\xf1N\\xdf\\xedO\\x0b\\xf9\\xb8\\xfb?\\xf6\\xa8\\xdf\\xbb\\xee\\xee\\xf2e\\xf2\\xf3\\xff\\x00\\x03\\xdb\\x8f|WKU\\xeflm5+I-/\\xed`\\xba\\xb6\\x93\\x1b\\xe1\\x9e0\\xe8\\xd89\\x19S\\xc1\\xe4\\x03K\\xad\\xc6s\\xde\\x0e,\\xbe\\x17\\xbb6\\xc0\\x18\\x85\\xf5\\xf1\\xb5\\x0b\\xd3g\\x9f&\\xdd\\xbe\\xde\\x95\\xc2Eq\\xa8Zx\\x12\\xda\\xd3\\xec\\xfal\\xd2\\xdc\\xf8r\\xe6Kw\\xb6\\x85\\x85\\xcd\\xb1\\n\\x9en\\xe7$\\x96\\xdc\\xcd\\x92B\\xae\\x18`\\x86<\\xd7\\xaeE\\xa7\\xd9B\\xb6\\xcb\\x15\\xa5\\xbcb\\xd5v[\\x84\\x8c\\x0f%q\\x8c\\'\\x1f(\\xc0\\x03\\x02\\xa3\\xb5\\xd24\\xdb+\\xcb\\x8b\\xcbM:\\xd2\\xde\\xea\\xe4\\xe6y\\xa2\\x85Q\\xe5=~f\\x03-\\xf8\\xd2\\xb7\\xf5\\xe8;\\xf5\\xf3\\xb9\\xc0\\xdc\\xad\\xcd\\xc47\\xba\\x11\\x93\\xc3\\xd0I%\\xad\\x8f\\x93y\\x124Q\\x88\\x1eb\\x16\\xdd\\xbeb_\\x85`\\xb8*\\x1bw\\x01jMZ\\xf7X\\xd45\\x1d3N\\x9d\\xac\\x1a\\xe2\\xc7[\\x115\\xd3[\\xba\\xdb\\xbb}\\x95\\xa4\\x8d\\x8c{\\xc9\\xca\\xb3\\x80\\x17\\x7f,\\xa3\\x91\\x9c\\x0e\\xd2\\x1f\\x0fh\\x96\\xd6W6Ph\\xfa|V\\xb7D\\x9b\\x88\\x12\\xd9\\x15%\\'\\xae\\xe5\\x03\\r\\xf8\\xd3\\xd7C\\xd2SI:J\\xe9vCM \\x83f-\\xd3\\xc9\\xeb\\x9f\\xb9\\x8d\\xbdy\\xe9\\xd6\\xaa\\xfdIJ\\xca\\xc7\\x1bi\\xaa@\\xd6\\x96\\xf2\\xc5\\xa4Y\\\\\\xf8\\x8c\\xcdygm\\x15\\xaeR\\t1.&\\x98\\x8eB!*\\xa5\\x89\\xc9\\xcf\\xca\\x0b\\x13\\xcfQ\\xa7i#B\\xf0|:P\\x98\\xcc-,\\xfc\\xaf3n\\xdd\\xd8^\\xa0v\\x1e\\xdd\\xa9n|\\'\\xe1\\xcb\\xc8\\xad\\xe2\\xba\\xf0\\xfe\\x95<v\\xe9\\xe5\\xc0\\x92\\xd9\\xc6\\xc2$\\xfe\\xea\\x828\\x1e\\xc2\\xad\\xcbkoe\\xa2\\xcbmi\\x04V\\xf6\\xf1@\\xcb\\x1cQ DA\\x83\\xc0\\x03\\x80)-\\xbf\\xaf\\xeb\\xccos.\\xc7\\xfeJ\\x16\\xb3\\xff\\x00`\\xab\\x0f\\xfd\\x1bwE\\x16?\\xf2P\\xb5\\x9f\\xfb\\x05X\\x7f\\xe8\\xdb\\xba(\\x02\\xbe\\xb4\\xa1\\xbcu\\xa2)\\xce\\x0e\\x9fv88?\\xf1\\xf1e\\xde\\xba\\x1f\\xb1\\xc5\\xfd\\xe9\\xff\\x00\\xef\\xfb\\xff\\x00\\x8ds\\xfa\\xc7\\xfc\\x8f\\x9a\\x1f\\xfd\\x83\\xee\\xff\\x00\\xf4\\xa2\\xca\\xba\\x8a\\x00\\xaf\\xf68\\xbf\\xbd?\\xfd\\xff\\x00\\x7f\\xf1\\xa3\\xecq\\x7fz\\x7f\\xfb\\xfe\\xff\\x00\\xe3V*\\xa6\\xa5\\r\\xd5\\xc5\\x84\\x91Y^}\\x8ef\\xc0\\x13\\x88\\x84\\x8c\\x83<\\xedS\\xc6\\xecg\\x19\\x04\\x03\\x82A\\xe8@\\x1f\\xf68\\xbf\\xbd?\\xfd\\xff\\x00\\x7f\\xf1\\xa8--#hX\\x96\\x9b\\xfdl\\x83\\x89\\x9c\\x7f\\x19\\xf7\\xac\\x9f\\x06\\xeawZ\\x8d\\xbe\\xa4\\xb7\\x17s\\xddGmxa\\x86k\\xa8D7\\x05v+\\x1f60\\xab\\xb4\\xe5\\x8e2\\xaaJ\\xed8\\xe7\\'v\\xcf\\xfdC\\x7f\\xd7Y?\\xf46\\xa0\\x03\\xecq\\x7fz\\x7f\\xfb\\xfe\\xff\\x00\\xe3G\\xd8\\xe2\\xfe\\xf4\\xff\\x00\\xf7\\xfd\\xff\\x00\\xc6\\xacQ@\\x15\\xfe\\xc7\\x17\\xf7\\xa7\\xff\\x00\\xbf\\xef\\xfe4}\\x8e/\\xefO\\xff\\x00\\x7f\\xdf\\xfcj\\xc5\\x14\\x01_\\xecq\\x7fz\\x7f\\xfb\\xfe\\xff\\x00\\xe3G\\xd8\\xe2\\xfe\\xf4\\xff\\x00\\xf7\\xfd\\xff\\x00\\xc6\\xacT\\x17\\x8fs\\x1d\\xa4\\x8fg\\x04s\\xdc\\x81\\xfb\\xb8\\xe4\\x90\\xc6\\xac}\\xd8\\x03\\x81\\xf8\\x1f\\xa5\\x00\\'\\xd8\\xe2\\xfe\\xf4\\xff\\x00\\xf7\\xfd\\xff\\x00\\xc6\\x8f\\xb1\\xc5\\xfd\\xe9\\xff\\x00\\xef\\xfb\\xff\\x00\\x8dr\\x9a5\\xcf\\x88\\xb5\\x9f\\n\\xc0\\xf7\\x1a\\xac\\x16\\x97+}s\\x1d\\xf5\\xe41\\xa8)\\x14r\\xc8\\xa0D\\x1dY\\x7f\\x85F\\\\\\x1f\\x97\\'\\x93\\xcdc\\x8f\\x12j\\x92Y\\xe9\"\\xf7_m6\\xc6\\xe1\\xae\\xfc\\xbdX\\xdb\\xc4\\x1a\\xec#\\x81n0\\xcaP\\x19\\x14\\x97\\xc0P_o\\xcb\\x8c\\xd0\\xf4\\xfe\\xbf\\xaf\\xf8=\\x07o\\xeb\\xfa\\xfe\\xbb\\x9d\\xe5\\xed\\xa4kcp\\xc1\\xa6\\xc8\\x89\\x8f39\\x1d=3S\\xfd\\x8e/\\xefO\\xff\\x00\\x7f\\xdf\\xfck+G\\xd5d\\xd7<\\x11m\\xaaK\\x18\\x8e[\\xab/1\\xd0\\x02\\x02\\xb1^F\\x0f#\\x9c\\xd6\\xed6\\xac\\xec$W\\xfb\\x1c_\\xde\\x9f\\xfe\\xff\\x00\\xbf\\xf8\\xd1\\xf68\\xbf\\xbd?\\xfd\\xff\\x00\\x7f\\xf1\\xab\\x15\\x83\\xe2[\\xcb\\xc8\\x9fI\\xd3\\xecnZ\\xd6]F\\xf3\\xc8k\\x94Ef\\x89\\x04o#\\x15\\x0c\\n\\xee!02\\x08\\x19\\xce)\\x01\\xad\\xf68\\xbf\\xbd?\\xfd\\xff\\x00\\x7f\\xf1\\xa3\\xecq\\x7fz\\x7f\\xfb\\xfe\\xff\\x00\\xe3Y~\\x16\\xd4.\\xef\\xf467\\x92\\t\\xae\\xed\\xae\\'\\xb4\\x92m\\xa1|\\xd3\\x14\\x8c\\x81\\xc8\\x1c\\x02B\\x82q\\xc6I\\xc5qV\\x1e4\\xd5-\\xac\\xee\\xf5\\t\\xb51|c\\xd2g\\xbd\\x9e\\xdehR8\\xa3\\x99\\x08\\xda-\\xdd@2\\xc5\\x92\\xc0\\xb0.\\x06\\x17\\xe6\\x04\\xe0\\x83\\xb1\\xe9?c\\x8b\\xfb\\xd3\\xff\\x00\\xdf\\xf7\\xff\\x00\\x1a>\\xc7\\x17\\xf7\\xa7\\xff\\x00\\xbf\\xef\\xfe5\\xc9\\xe8WW\\xda\\x9d\\xad\\xf5\\xac\\x1e.\\x9e\\xe2\\xecG\\x133\\xdcik\\x14\\x90g;\\x9e%*\\x81\\x91\\x80;\\tW\\x00\\x8c\\xe5\\xfaVA\\xf1e\\xfaX\\x0bS\\xab]\\x85\\x9bW6q_Kd>\\xd8\\xb1,>k\\x03\\x00\\x8f\\xfda \\xaa\\x83\\x1eJ\\xb2\\x9d\\xa7\\xa9<\\x84\\xb5W=\\x0f\\xecq\\x7fz\\x7f\\xfb\\xfe\\xff\\x00\\xe3P^\\xdaF\\xb67\\x0c\\x1al\\x88\\x98\\xf33\\x91\\xd3\\xd35\\xc4]x\\xa2O+H\\xb2\\x8b\\xc4\\xd7M\\x14\\xf1\\xdc\\xcf-\\xfd\\xae\\x9a\\x1e\\xe9\\x84n\\xaa#\\xf2|\\xb6\\xc3\\x02\\xff\\x009\\xf2\\xc66\\x1e\\x17<v6\\xd3\\xfd\\xab\\xc2\\xc9?\\xdbb\\xbe\\xf3-7}\\xaa\\x14\\xd8\\x93e~\\xf8\\x198\\x07\\xae3G\\x98\\x14\\xec\\x7f\\xe4\\xa1k?\\xf6\\n\\xb0\\xff\\x00\\xd1\\xb7tQc\\xff\\x00%\\x0bY\\xff\\x00\\xb0U\\x87\\xfe\\x8d\\xbb\\xa2\\x80 \\xd6?\\xe4|\\xd0\\xff\\x00\\xec\\x1fw\\xff\\x00\\xa5\\x16U\\xd4W-\\xaddx\\xebD\\xda\\x01o\\xec\\xfb\\xbc\\x02p3\\xf6\\x8b*\\xe8w\\xde\\x7f\\xcf\\x08?\\xef\\xf1\\xff\\x00\\xe2h\\x02\\xc5T\\xd4`\\xbb\\xb9\\xb2h\\xec/~\\xc7s\\x95d\\x94\\xc4%^\\x0ep\\xcaq\\x95=\\x0e\\x088<\\x10y\\xa7\\xef\\xbc\\xff\\x00\\x9e\\x10\\x7f\\xdf\\xe3\\xff\\x00\\xc4\\xd1\\xbe\\xf3\\xfexA\\xff\\x00\\x7f\\x8f\\xff\\x00\\x13@\\x14\\xb4]&]4\\xde\\\\]\\xdc\\xc7q}{0\\x9a\\xe2H\\xa21FHEE\\n\\x85\\x98\\x80\\x15\\x17\\xab\\x1c\\x9c\\x9fav\\xcf\\xfdC\\x7f\\xd7Y?\\xf46\\xa3}\\xe7\\xfc\\xf0\\x83\\xfe\\xff\\x00\\x1f\\xfe&\\xa0\\xb4{\\xaf%\\xb6\\xc3\\t\\x1el\\x9de#\\x9d\\xe7\\xfd\\x9a\\x00\\xbfEW\\xdfy\\xff\\x00< \\xff\\x00\\xbf\\xc7\\xff\\x00\\x89\\xa3}\\xe7\\xfc\\xf0\\x83\\xfe\\xff\\x00\\x1f\\xfe&\\x80,QU\\xf7\\xde\\x7f\\xcf\\x08?\\xef\\xf1\\xff\\x00\\xe2h\\xdfy\\xff\\x00< \\xff\\x00\\xbf\\xc7\\xff\\x00\\x89\\xa0\\x0b\\x14U}\\xf7\\x9f\\xf3\\xc2\\x0f\\xfb\\xfc\\x7f\\xf8\\x9a7\\xde\\x7f\\xcf\\x08?\\xef\\xf1\\xff\\x00\\xe2h\\x03\\x97\\xbe\\xf0e\\xec\\xfa\\x1cZU\\xb6\\xadn\\x90}\\xbek\\xbb\\x84\\xb8\\xb3ic\\xb8W\\x91\\xe4\\x11:\\xac\\x8av\\x82\\xfc\\x8c\\xe1\\xb6\\xf20H:W\\x1ao\\x88\\xa5\\xb0\\x828u\\xdb\\x1b{\\x95\\x0e\\x924zi\\xf2\\x99OB\\xa8e,\\xac\\xb8\\xe0\\xef#\\x93\\x95<c[}\\xe7\\xfc\\xf0\\x83\\xfe\\xff\\x00\\x1f\\xfe&\\x8d\\xf7\\x9f\\xf3\\xc2\\x0f\\xfb\\xfc\\x7f\\xf8\\x9a-\\xa5\\xbf\\xae\\xc1}nT\\x87N\\x83H\\xf0\\xca\\xe9\\xb6\\xdb\\xbc\\x8b[O%\\x0b\\x1c\\x92\\x15p\\t\\xf7\\xe2\\xb4\\xea\\x85\\xeb\\xdd\\x1b\\x1b\\x8d\\xd0\\xc2\\x17\\xcal\\x91)\\'\\x18\\xff\\x00v\\xa7\\xdfy\\xff\\x00< \\xff\\x00\\xbf\\xc7\\xff\\x00\\x89\\xa6\\xdd\\xdd\\xd8\\x16++]\\xd2%\\xd5b\\xb4\\x92\\xd6\\xe9mol\\xee\\x16\\xe2\\xdeg\\x8b\\xcdP\\xd8*C.\\xe5$\\x15f\\x1c\\x11\\xd79\\xe2\\xae\\xef\\xbc\\xff\\x00\\x9e\\x10\\x7f\\xdf\\xe3\\xff\\x00\\xc4\\xd1\\xbe\\xf3\\xfexA\\xff\\x00\\x7f\\x8f\\xff\\x00\\x13H\\n\\x1a>\\x8d.\\x93\\xa6\\xc1g\\xf6\\xa4\\x9c\\x16\\x96[\\xb9\\x1a\\x12\\x1ay$b\\xcc\\xcb\\x86\\xf9\\x06\\xe6<|\\xdc`g\\x8c\\xd6\\x1d\\xaf\\x80\\x89\\x81l\\xf5=O\\xedv\\x16\\xf6\\x12\\xe9\\xd6p\\xc5o\\xe5<p\\xc9\\xb7%\\xdfsop\\x11\\x00 (\\xe0\\x9c\\x12k\\xab\\xdfy\\xff\\x00< \\xff\\x00\\xbf\\xc7\\xff\\x00\\x89\\xa3}\\xe7\\xfc\\xf0\\x83\\xfe\\xff\\x00\\x1f\\xfe&\\x80\\xb9\\x81\\x07\\x875\\x94\\x9a\\xea\\xfa]~#\\xa9\\xc9\\x0cPC<v!cH\\xe3b\\xd8t.w\\x16,w\\x10\\xcb\\xc7\\xdd\\xdb\\xd6\\x9b\\xff\\x00\\x08\\x9d\\xc9\\r|u\\x18F\\xb8o\\x05\\xe0\\xba[R!\\x0e#\\xf2v\\xf9^a;|\\xbe\\x08\\xdf\\x9c\\xf3\\x91\\xc0\\x1d\\x0e\\xfb\\xcf\\xf9\\xe1\\x07\\xfd\\xfe?\\xfcM\\x1b\\xef?\\xe7\\x84\\x1f\\xf7\\xf8\\xff\\x00\\xf14\\x01\\xcd\\xc3\\xe1\\x0b\\xcb(\\xe0\\xba\\xb1\\xd5\\xa2\\x8fXV\\xb83]Kh^)|\\xe7\\x0e\\xe3\\xca\\x0e\\xb8\\x01\\x95v\\xfc\\xc7\\x18\\xe7vMkZi\\x91\\xe8\\xbe\\x15M6\\'i\\x12\\xda\\xd4\\xc6\\x1d\\xfa\\xbe\\x17\\x92q\\xeay\\xab\\xdb\\xef?\\xe7\\x84\\x1f\\xf7\\xf8\\xff\\x00\\xf15\\x05\\xeb\\xdd\\x1b\\x1b\\x8d\\xd0\\xc2\\x17\\xcal\\x91)\\'\\x18\\xff\\x00v\\x803l\\x7f\\xe4\\xa1k?\\xf6\\n\\xb0\\xff\\x00\\xd1\\xb7tQc\\xff\\x00%\\x0bY\\xff\\x00\\xb0U\\x87\\xfe\\x8d\\xbb\\xa2\\x80 \\xd6?\\xe4|\\xd0\\xff\\x00\\xec\\x1fw\\xff\\x00\\xa5\\x16U\\xd4W/\\xac\\x7f\\xc8\\xf9\\xa1\\xff\\x00\\xd8>\\xef\\xff\\x00J,\\xab\\xa8\\xa0\\x02\\x91\\x98*\\x96b\\x02\\x81\\x92I\\xe0\\nZ\\xc6\\xf15\\xa6\\xa5\\x7f\\xa4\\x8b]6+YL\\x92(\\xb8\\x8e\\xe6\\xe1\\xa1\\x0f\\x0fVP\\xca\\x8eA<\\x03\\xc7Bz\\x1cP\\xc6\\x89\\xf4\\x1dr\\xcf\\xc4zJjv\\x05\\xcd\\xb3\\xc9\"#8\\xc6\\xed\\x8eP\\x91\\xecJ\\x92=\\x88\\xabV\\x7f\\xea\\x1b\\xfe\\xba\\xc9\\xff\\x00\\xa1\\xb5s\\xfe\\x02\\x87S\\x83A\\xb8\\x8fT\\xb1\\x8e\\xceO\\xb7\\xdd:\"H\\xcd\\x95i\\xdd\\xb3\\xf3\"\\xe0s\\xc1\\xe7#\\x07\\x8c\\xe0t\\x16\\x7f\\xea\\x1b\\xfe\\xba\\xc9\\xff\\x00\\xa1\\xb56\"\\xc5\\x14QH\\x02\\x8a(\\xa0\\x02\\xa1\\xba\\xba\\xb7\\xb1\\xb5\\x92\\xea\\xeex\\xad\\xed\\xe2]\\xd2K+\\x85T\\x1e\\xa4\\x9e\\x00\\xa9\\xa9\\x19U\\xc6\\x19A\\x19\\xce\\x08\\xa0\\x0cm7\\xc5:f\\xa7\\xe1\\xb9<A\\x14\\x92E\\xa7\\'\\x9aL\\x93&\\xc3\\xb66e-\\x8e\\xa0\\x1d\\xa4\\x8c\\xf3\\xd3\\x80x\\xa8\\x1b\\xc5\\xf6\\xad\\xa6i7v\\x9a}\\xfd\\xe4\\xba\\xac>}\\xb5\\xa4\\x08\\x82_/hb\\xcd\\xb9\\xc2\\xa8\\x01\\x94\\x1c\\xb7R\\x00\\xcek\\x06\\xdfK\\xd7\\x9fA\\x86\\x1b[\\x0bi#\\x8fS\\xbe\\xb8\\x9e\\xde\\xf6\\xe2Kv\\x7f\\xf4\\x89\\x1a\"1\\x1b\\xe5rC\\xf4\\x19\\xc2\\xf3\\x8c\\xd6U\\xa6\\x95}\\x0e\\x89\\xe1[\\xbdj\\xd3T\\xb6\\x82\\xdbH{9b\\xd2\\x9av\\x9d\\x1c\\x88\\x8an\\x11\\xa8\\x91s\\xe5\\x9c\\x81\\xc0`\\x01$P\\xf6o\\xd3\\xf2\\xff\\x001\\xdb\\xf5=\\x19\\xaeV\\xf7B{\\x95\\x8ah\\x84\\xb6\\xe5\\xc4s\\xc6Q\\xd7+\\xd1\\x94\\xf2\\x0f\\xb5^\\xac=$j\\x03\\xc16\\xdf\\xda\\xc5\\xce\\xa1\\xf6/\\xdf\\xf9\\x98\\xdd\\xbbo;\\xb1\\xc6\\xef\\\\w\\xcdnS\\x92\\xb3h\\x95\\xb0V~\\xb1\\xab\\xc5\\xa3\\xdbE#\\xc1=\\xc4\\xd3\\xca\\xb0Ao\\x00S$\\xaerv\\x8d\\xc4(\\xe0\\x12I \\x00\\x0f5\\xa1\\\\\\xe7\\x8a\\xd2Xg\\xd154\\xb7\\x9ext\\xfb\\xff\\x006t\\xb7\\x89\\xa5\\x90#E${\\x82(,\\xd8.\\t\\x00\\x13\\x8c\\xfaR\\x19\\xab\\xa4\\xea\\xd6\\xfa\\xc6\\x95\\x16\\xa1\\x00\\x928\\xdfpd\\x94mx\\xd9IVV\\x19 \\x15`A\\xe4\\x8e:\\x9a\\xca\\xd3|ao\\xaa&m\\xf4\\xdd@\\x19`k\\x9b%\\x91cC}\\x1a\\x90\\x0bE\\x97\\xe3\\xaa\\xf0\\xfb\\x0e\\x18\\x1cb\\x93\\xc2K%\\xbe\\x8e\\x05\\xdd\\xb5\\xc42j\\x17wWi\\x14\\x90\\xb6Q$\\x95\\x9dC\\xf1\\x84;Xp\\xd89\\xe3\\xa8\\xac\\x1f\\x0c\\xe9g\\xfe\\x12\\x8b\\t-\\x13\\\\\\x8e\\xc3L\\xb2\\x9a\\x11\\x16\\xa7\\x0f\\x96-\\xcb\\xb2\\x05\\x86?\\x94\\t\\x00\\x08\\xdf>_\\xa2\\xfc\\xe6\\x8e\\xa1\\xd0\\xdd\\xb4\\xf1t\\xd7\\x97:\\x85\\xac~\\x19\\xd6\\x05\\xd5\\x88\\x8c\\xcb\\t{\\\\\\x92\\xfd\\x140\\x98\\xae\\xec|\\xc4\\x12\\x08\\x04z\\x8c\\x96\\x9e6\\xd3\\xe5\\xd35\\x1dB\\xfe\\xde\\xe7K\\xb7\\xb0\\x9c\\xdb\\xc8o\\x1a#\\xbe@9T1\\xbb\\x879;p\\x0ewdu\\x04TZ\\x10\\xbb\\xd3\\xbc\\x15w\\xa95\\x9c\\xdf\\xdaW\"\\xe2\\xfeH\\x0cG\\xcci\\x18\\xb3*m\\xc6r\\x14\"\\x81\\xd7\\x80+GC\\xd2\\x86\\x99\\xe1K+\\x12\\x99\\x96+p\\\\\\x91\\xc9\\x94\\xae]\\xbe\\xa5\\x8b\\x13\\xf54\\xa4\\xda\\x8b~_\\x88\\xd2\\xd7\\xe6Wo\\x17\\xda\\xb6\\x99\\xa4\\xdd\\xdai\\xf7\\xf7\\x92\\xea\\xb0\\xf9\\xf6\\xd6\\x90\"\\t|\\xbd\\xa1\\x8b6\\xe7\\n\\xa0\\x06Pr\\xddH\\x039\\xad6\\xb9[\\xdd\\t\\xeeV)\\xa2\\x12\\xdb\\x97\\x11\\xcf\\x19G\\\\\\xafFS\\xc8>\\xd5\\xe7\\xc9\\xa4Ko\\xa3\\xf8J\\xefQ\\x87Y\\x8e\\xda\\xdfE6\\x97\\x11\\xe9\\xcb0\\xb8\\x8eR\\xb12\\x82\"\\x1e`\\x1f!\\x07\\x18\\xe4\\x00\\xdc\\x1a\\xec\\xf4\\x91\\xa8\\x0f\\x04\\xdb\\x7fk\\x17:\\x87\\xd8\\xbf\\x7f\\xe6cv\\xed\\xbc\\xee\\xc7\\x1b\\xbdq\\xdf5m+\\xbbw\\xfdY=\\x88\\xac\\x7f\\xe4\\xa1k?\\xf6\\n\\xb0\\xff\\x00\\xd1\\xb7tQc\\xff\\x00%\\x0bY\\xff\\x00\\xb0U\\x87\\xfe\\x8d\\xbb\\xa2\\xa4e}i\\x82\\xf8\\xebDf (\\xd3\\xee\\xc9$\\xf0\\x07\\xda,\\xab\\xa1\\xfbu\\x9f\\xfc\\xfdA\\xff\\x00\\x7f\\x05s\\xfa\\xc7\\xfc\\x8f\\x9a\\x1f\\xfd\\x83\\xee\\xff\\x00\\xf4\\xa2\\xca\\xba\\x8a\\x00\\xaf\\xf6\\xeb?\\xf9\\xfa\\x83\\xfe\\xfe\\n>\\xddg\\xff\\x00?P\\x7f\\xdf\\xc1V(\\xa0\\n\\xff\\x00n\\xb3\\xff\\x00\\x9f\\xa8?\\xef\\xe0\\xa8-/mV\\x16\\rs\\x08>l\\x87\\x99\\x07B\\xe6\\xaf\\xd5{?\\xf5\\r\\xff\\x00]d\\xff\\x00\\xd0\\xda\\x80\\x0f\\xb7Y\\xff\\x00\\xcf\\xd4\\x1f\\xf7\\xf0Q\\xf6\\xeb?\\xf9\\xfa\\x83\\xfe\\xfe\\n\\xb1E\\x00W\\xfbu\\x9f\\xfc\\xfdA\\xff\\x00\\x7f\\x05\\x1fn\\xb3\\xff\\x00\\x9f\\xa8?\\xef\\xe0\\xab\\x14P\\x05\\x7f\\xb7Y\\xff\\x00\\xcf\\xd4\\x1f\\xf7\\xf0Q\\xf6\\xeb?\\xf9\\xfa\\x83\\xfe\\xfe\\n\\xb1E\\x00W\\xfbu\\x9f\\xfc\\xfdA\\xff\\x00\\x7f\\x05\\x1fn\\xb3\\xff\\x00\\x9f\\xa8?\\xef\\xe0\\xab\\x14P\\x05\\x0b\\xdb\\xdbV\\xb1\\xb8U\\xb9\\x84\\xb1\\x89\\x80\\x02A\\x92qS\\xfd\\xba\\xcf\\xfe~\\xa0\\xff\\x00\\xbf\\x82\\x8b\\xef\\xf9\\x07\\xdc\\xff\\x00\\xd7&\\xfeF\\xacP\\x05\\x7f\\xb7Y\\xff\\x00\\xcf\\xd4\\x1f\\xf7\\xf0Q\\xf6\\xeb?\\xf9\\xfa\\x83\\xfe\\xfe\\n\\xb1E\\x00W\\xfbu\\x9f\\xfc\\xfdA\\xff\\x00\\x7f\\x05\\x1fn\\xb3\\xff\\x00\\x9f\\xa8?\\xef\\xe0\\xab\\x14P\\x05\\x7f\\xb7Y\\xff\\x00\\xcf\\xd4\\x1f\\xf7\\xf0Q\\xf6\\xeb?\\xf9\\xfa\\x83\\xfe\\xfe\\n\\xb1E\\x00W\\xfbu\\x9f\\xfc\\xfdA\\xff\\x00\\x7f\\x05A{{j\\xd67\\n\\xb70\\x9610\\x00H2N*\\xfdW\\xbe\\xff\\x00\\x90}\\xcf\\xfdro\\xe4h\\x03\\x1a\\xc7\\xfeJ\\x16\\xb3\\xff\\x00`\\xab\\x0f\\xfd\\x1bwE\\x16?\\xf2P\\xb5\\x9f\\xfb\\x05X\\x7f\\xe8\\xdb\\xba(\\x02\\rc\\xfeG\\xcd\\x0f\\xfe\\xc1\\xf7\\x7f\\xfaQe]Er\\xfa\\xc7\\xfc\\x8f\\x9a\\x1f\\xfd\\x83\\xee\\xff\\x00\\xf4\\xa2\\xca\\xba\\x8a\\x00+\\x0f\\xc5\\xf6w\\xba\\x8f\\x86.\\xecl-\\x96\\xe2k\\x9d\\x914m @cgQ&X\\xe7\\x03f\\xee\\xc4\\xfa\\x03[\\x95SQ\\xd3m5k&\\xb4\\xbd\\x8b\\xcc\\x85\\x8a\\xb7\\x0cQ\\x95\\x94\\xe5YYH*\\xc0\\x80A\\x04\\x10E&4d\\xf8L\\xdaC\\x05\\xfe\\x9do\\xa3Xi3Y\\\\\\x04\\xb8\\xb7\\xb0\\xc1\\x84\\xbb\"\\xb8e!\\x139V\\\\\\xe5A\\xc8#\\x90\\x01;6\\x7f\\xea\\x1b\\xfe\\xba\\xc9\\xff\\x00\\xa1\\xb5G\\xa6\\xe9v\\x9aM\\xb1\\x82\\xd1d\\n\\xcc]\\xdeY\\x9eY\\x1d\\x8fvw%\\x98\\xe0\\x01\\xc9<\\x00:\\x01RY\\xff\\x00\\xa8o\\xfa\\xeb\\'\\xfe\\x86\\xd5LE\\x8a(\\xa2\\x90\\x05\\x14Q@\\x05Ay\\x0c\\xb76\\x92C\\x05\\xd4\\x96\\xb28\\xc0\\x9e5Vd\\xf7\\x01\\x81\\x19\\xfa\\x82=\\xaaz(\\x03\\xcc,u{=\\x03\\xc0\\xf1i3k1\\xd9Kw\\x7f\\x7f\\x02\\xdd\\xde\\\\\\xaa\\xb8\\x8dn$\\xde\\xfb\\xdb\\x82\\xf8\\xc0\\x1f\\xed08\\xc05\\x1e\\x9ba\\x16\\xb9\\xe1\\x0f\\x07].\\x9f\\x16\\xbf\\xa5\\xda\\xe9\\x86\\t\\xad\\x12x\\xca\\xc79H\\xc2\\xc8\\xdb\\xd8.Sk\\xa9\\xe4\\xb2\\xee\\xe0\\x13\\x9a\\xf4\\x9b=:\\xd2\\xc2\\xd5\\xed\\xad\\xa2\\xf2\\xe1y$\\x91\\x97q9gb\\xccrOvb\\x7f\\x1a\\xce\\xb9\\xf0\\x96\\x8bu\\xa7YXIm*\\xdb\\xd9E\\xe4@!\\xb9\\x96&X\\xf0\\x14\\xa1u`\\xcc\\xa4\\x01\\x90I\\x07\\x039\\xc5\\x0fT\\xfe_\\x95\\x87\\x7f\\xd7\\xf1*\\xf8f\\xea\\xe6\\xf7\\xe1\\xc6\\x9dsy#Iq&\\x9c\\xac\\xf21\\xc9s\\xb3\\xefg\\xbez\\xd7KU.b\\x8e\\r&ha\\x8dc\\x8a8\\x19Q\\x10`(\\x0b\\x80\\x00\\xec*\\xdd9;\\xb6\\xc9[\\x05s\\x1e.\\x8a;\\xdb\\x9f\\x0f\\xe9\\xb7H\\xb2\\xd8\\xdej;.aq\\x94\\x95V\\x19]U\\x87B7\"\\x9c\\x1e\\xb8\\xae\\x9e\\xa9j\\x9aU\\x9e\\xb3g\\xf6[\\xd8\\xd9\\xe3\\x0e\\xb2)I\\x1a7GS\\x90\\xca\\xe8C)\\x1e\\xa0\\x8aC1\\xfc\\x12\\n\\xf8n[X\\xd8\\x88mon\\xed\\xad\\xfb\\xec\\x89&u@=\\x94\\x00\\x07\\xb0\\xae*\\xcbF\\xd5\\xecf\\x8bD\\xb3\\xb0:^\\xa9w\\xa3^Guy\\xe7\\xa9\\xfbm\\xc2\\xf9an\\x0b!-\\xf7\\x9c\\xe1\\x9b\\x0e7\\x9e8\\xafL\\xb2\\xd2,\\xb4\\xebkKkH\\xde\\x18-T\\xacQ\\xac\\xaf\\x8c\\x1e\\xbb\\x86~s\\xdf-\\x93\\x92OST\\xec\\xbc%\\xa2X-\\xca\\xc3e\\x94\\xb8\\x88\\xc0\\xe94\\xcf*\\x88\\x8es\\x1a\\x07b\\x119\\xfb\\xab\\x81\\xd3\\x8e\\x05\\x0f\\xf4\\x1av\\xfb\\xce\\r4\\xfb\\xe6\\x1a\\xde\\x81\\xa4xpi\\xd0Oag\\xbfMi\\xe2U\\xcbJ\\xe9+\\xb1B\\xca7F\\xa7\\x90K\\x10\\x99#<U\\xf7\\x8e\\xc2g\\xd3|:\\xda\\x1e\\x9f\\xa6\\xdb\\x8dg\\xc9\\xd4ll\\xc0ki\\x8f\\xd9Zd\\xe7bo\\x07\\x11\\xe4\\x15\\x1c\\xae9\\x1c\\x9e\\xae/\\x08h\\x91i\\xf7\\x16_f\\x95\\xe3\\xb8dy$\\x96\\xeaY&,\\x98\\xd8D\\xac\\xc5\\xc1\\\\\\r\\xb8a\\xb7\\xb6*F\\xf0\\xb6\\x90\\xfaQ\\xd3\\x9e\\t\\x9a\\x13(\\x9c\\xc8\\xd7R\\x99\\xbc\\xc0A\\x0f\\xe7n\\xf37\\x0c\\x00\\x0e\\xec\\xe0c\\xa7\\x14\\xee%\\xb1\\xc2\\xe9\\x9a}\\xa6\\xafs\\xa7h\\x1a\\x94+q\\xa3\\xdb\\xff\\x00j\\xac6\\xf2\\xf2\\x98\\x8a\\xe1c\\x8f\\xaf\\x07b3\\x05\\xf4\\xed\\xd2\\xba\\xef\\r\\xdc\\xcf{\\xf0\\xe7M\\xb9\\xba\\x91\\xa4\\x9eM5\\x19\\xdd\\x8eK\\x1f/\\xa9\\xf5\\'\\xadX\\xb9\\xf0\\x86\\x87u\\xa5Zi\\xb2Z:\\xdbZ\\x02!\\xf2\\xae$\\x89\\xd4\\x10C|\\xea\\xc1\\x8e\\xe0N\\xec\\x93\\xbb<\\xe6\\xb4na\\x8e\\xdfH\\x96\\x18cX\\xe2\\x8e\\x02\\x88\\x8a0\\x15B\\xe0\\x00=(\\xe9o\\xeb\\xd4\\x1e\\xac\\xc9\\xb1\\xff\\x00\\x92\\x85\\xac\\xff\\x00\\xd8*\\xc3\\xff\\x00F\\xdd\\xd1E\\x8f\\xfc\\x94-g\\xfe\\xc1V\\x1f\\xfa6\\xee\\x8a@W\\xd6\\x81>:\\xd1\\x00b\\xa4\\xe9\\xf7|\\x8e\\xa3\\xfd\"\\xca\\xba\\x1f\\xb3\\xcb\\xff\\x00?\\x93\\xfeI\\xff\\x00\\xc4\\xd7?\\xac\\x7f\\xc8\\xf9\\xa1\\xff\\x00\\xd8>\\xef\\xff\\x00J,\\xab\\xa8\\xa0\\n\\xff\\x00g\\x97\\xfe\\x7f\\'\\xfc\\x93\\xff\\x00\\x89\\xa3\\xec\\xf2\\xff\\x00\\xcf\\xe4\\xff\\x00\\x92\\x7f\\xf15b\\xb2<M\\xacI\\xa1\\xe8r\\xdeB\\x91=\\xc3<p\\xc2&m\\xa9\\xe6H\\xe1\\x14\\xb1\\xfe\\xe8-\\x93\\xec\\r\\x00\\x8b\\xff\\x00g\\x97\\xfe\\x7f\\'\\xfc\\x93\\xff\\x00\\x89\\xa8- \\x90\\xc2\\xd8\\xbb\\x98~\\xf6N\\x00O\\xef\\x9f\\xf6j\\xaf\\x86\\xf5\\x0b\\x9dKO{\\x89\\xf5\\x1d\\'Q\\x8f\\xcc\"\\x1b\\xbd,\\x9f.E\\x00g \\xb3m`r8f\\xe8\\x0f\\x1d\\x06\\x8d\\x9f\\xfa\\x86\\xff\\x00\\xae\\xb2\\x7f\\xe8m@\\x07\\xd9\\xe5\\xff\\x00\\x9f\\xc9\\xff\\x00$\\xff\\x00\\xe2h\\xfb<\\xbf\\xf3\\xf9?\\xe4\\x9f\\xfcMX\\xa2\\x80+\\xfd\\x9e_\\xf9\\xfc\\x9f\\xf2O\\xfe&\\x8f\\xb3\\xcb\\xff\\x00?\\x93\\xfeI\\xff\\x00\\xc4\\xd5\\x8a(\\x02\\xbf\\xd9\\xe5\\xff\\x00\\x9f\\xc9\\xff\\x00$\\xff\\x00\\xe2h\\xfb<\\xbf\\xf3\\xf9?\\xe4\\x9f\\xfcMX\\xa8/.\\x1e\\xd6\\xd2I\\xe3\\xb6\\x9a\\xe9\\xd0ea\\x87n\\xf7>\\x83q\\x03\\xf3 P\\x02}\\x9e_\\xf9\\xfc\\x9f\\xf2O\\xfe&\\x8f\\xb3\\xcb\\xff\\x00?\\x93\\xfeI\\xff\\x00\\xc4\\xd73\\xa7k\\xda\\xde\\xa9\\xe1\\x11\\xa91\\xd2\\xb4\\xbb\\x94\\xb9\\xb8K\\xa9.\\x8b<6\\xd1\\xc5#\\xa98\\x0c\\xbb\\xce\\x10\\x02w(\\xe4\\x9e\\xdbMg\\xf1\\x1e\\xb77\\x82\\xd7\\xc4\\x10\\xddi\\xd0,K.\\xec\\xd8I8\\xbb\\xc3\\x95\\x8d\\xa1\\x02d*$\\xc0 \\x1d\\xdf|s\\xdc\\x8fA\\xd8\\xea/`\\x90X\\xdc\\x13w3\\x01\\x13pB`\\xf1\\xfe\\xedO\\xf6y\\x7f\\xe7\\xf2\\x7f\\xc9?\\xf8\\x9a\\xa7\\x01\\xd4\\x1b\\xc3!\\xb5Qn5\\x03jM\\xc0\\xb7\\x04F\\x1fo!rI\\xc0\\xe9\\xd6\\xb5)\\xb5gbS\\xba\\xb9_\\xec\\xf2\\xff\\x00\\xcf\\xe4\\xff\\x00\\x92\\x7f\\xf14}\\x9e_\\xf9\\xfc\\x9f\\xf2O\\xfe&\\xacV7\\x88u;\\xbb\\x11\\xa7\\xdai\\xe2\\x01{\\xa8]\\x0bx\\xa4\\x9dKG\\x1e\\x11\\x9d\\x98\\xa8 \\xb6\\x15\\x0e\\x06FI\\x1c\\xd2\\x19\\xa3\\xf6y\\x7f\\xe7\\xf2\\x7f\\xc9?\\xf8\\x9a>\\xcf/\\xfc\\xfeO\\xf9\\'\\xff\\x00\\x13Y\\xfe\\x1d\\xd5\\xa7\\xd54O\\xb4]\\xc6\\x8bw\\x0c\\xb3[\\xdc, \\xec2D\\xec\\x8cW<\\xe0\\x95\\xc8\\x04\\x9cg\\x195\\x85\\xe1\\xef\\x17_\\xde\\xcd\\xa7\\x7fh\\x0b)\\x06\\xaba&\\xa1k\\x05\\x9a\\x91$*\\x85\\x7fv\\xfb\\x98\\xef$8\\xf9\\x80^U\\x86(\\x03\\xad\\xfb<\\xbf\\xf3\\xf9?\\xe4\\x9f\\xfcM\\x1fg\\x97\\xfe\\x7f\\'\\xfc\\x93\\xff\\x00\\x89\\xae@x\\xcbQM\\x03\\xc4w\\xf7\\x960i\\xf7\\x1a}\\xe0\\xb6\\xb6\\x8aw\\x0c\\x17zDP\\xcaU\\xb6\\xf5\\x90\\x13\\xb5\\xb0\\x07\\x198\\xc9\\xd4\\x83_h<1&\\xa6\\xfa\\x96\\x9d\\xad;1Kg\\xd3\\x13\\xcb\\x8eg\\'j\\xa0\\xcc\\x8e3\\xbb\\xa9\\xdd\\x81\\xdf\\x184\\x9b\\xb2l:\\xd8\\xdb\\xfb<\\xbf\\xf3\\xf9?\\xe4\\x9f\\xfcMA{\\x04\\x82\\xc6\\xe0\\x9b\\xb9\\x98\\x08\\x9b\\x82\\x13\\x07\\x8f\\xf7k\\x94\\xb8\\xf1\\xa5\\xc2\\xe8\\x1e\\x18\\xb8\\x97Q\\xd1\\xf4\\xab\\x8dZ\\xd8\\\\\\xcfq|\\xa4\\xc1\\x18\\x11\\xa9!A\\x95\\x0eK:\\x81\\xf3t\\xcfZ\\xeb\\xa6\\xf3\\x0e\\x8d\\'\\x9b$r\\xc9\\xf6s\\xb9\\xe3]\\xaa\\xc7o$\\x0c\\x9c\\x0fl\\x9f\\xa9\\xaaj\\xd7\\xf2\\xd0\\x0c\\xab\\x1f\\xf9(Z\\xcf\\xfd\\x82\\xac?\\xf4m\\xdd\\x14X\\xff\\x00\\xc9B\\xd6\\x7f\\xec\\x15a\\xff\\x00\\xa3n\\xe8\\xa4\\x04\\x1a\\xc7\\xfc\\x8f\\x9a\\x1f\\xfd\\x83\\xee\\xff\\x00\\xf4\\xa2\\xca\\xba\\x8a\\xe5\\xb5\\xa2G\\x8e\\xb4B\\x14\\xb1\\x1a}\\xdf\\x03\\xa9\\xff\\x00H\\xb2\\xae\\x87\\xed\\x12\\xff\\x00\\xcf\\x9c\\xff\\x00\\x9a\\x7f\\xf1T\\x01b\\xb2<K\\xa3\\x7fn\\xe8\\xcdh\\xbeW\\x9a\\x92\\xc5q\\x10\\x99s\\x1b<n\\x1c+\\x0f\\xee\\x92\\xb8>\\xc6\\xaf\\xfd\\xa2_\\xf9\\xf3\\x9f\\xf3O\\xfe*\\x8f\\xb4K\\xff\\x00>s\\xfei\\xff\\x00\\xc5P\\x06W\\x87t\\xbb\\xdb+\\x8dV\\xff\\x00QKXn\\xb5\\x1b\\x913Ai#I\\x1cacT\\x1f3*\\x96c\\xb7$\\xed\\x1d@\\xed\\x93\\xabg\\xfe\\xa1\\xbf\\xeb\\xac\\x9f\\xfa\\x1bQ\\xf6\\x89\\x7f\\xe7\\xce\\x7f\\xcd?\\xf8\\xaa\\x82\\xd2y\\x04-\\x8bI\\x8f\\xefd\\xe4\\x14\\xfe\\xf9\\xff\\x00j\\x80/\\xd1U\\xfe\\xd1/\\xfc\\xf9\\xcf\\xf9\\xa7\\xff\\x00\\x15G\\xda%\\xff\\x00\\x9f9\\xff\\x004\\xff\\x00\\xe2\\xa8\\x02\\xc5\\x15_\\xed\\x12\\xff\\x00\\xcf\\x9c\\xff\\x00\\x9a\\x7f\\xf1T}\\xa2_\\xf9\\xf3\\x9f\\xf3O\\xfe*\\x80,QU\\xfe\\xd1/\\xfc\\xf9\\xcf\\xf9\\xa7\\xff\\x00\\x15G\\xda%\\xff\\x00\\x9f9\\xff\\x004\\xff\\x00\\xe2\\xa8\\x03\\n\\xc3M\\xd7t]\\x18C`\\xbau\\xc5\\xc1\\xbe\\xb9\\x9d\\xe2\\x9eGEx\\xe4\\x96G\\x008RU\\x86\\xe5\\xcf\\xc8\\xc3\\x82;\\xe6\\xa0\\x87\\xc2\\xf7i\\xa4\\xe9\\xd6l\\xf6\\xe0.\\xaau\\x1b\\xb8\\xd5\\x89E\\xcc\\x8f.\\xc4\\xf9~`$)\\xc9\\x03 \\x13\\xc7J\\xe9>\\xd1/\\xfc\\xf9\\xcf\\xf9\\xa7\\xff\\x00\\x15G\\xda%\\xff\\x00\\x9f9\\xff\\x004\\xff\\x00\\xe2\\xa8\\xfe\\xbe\\xef\\xf8`z\\xff\\x00^\\xbf\\xe6\\x17\\xdf\\xf2\\x0f\\xb9\\xff\\x00\\xaeM\\xfc\\x8dX\\xaa\\x17\\xb3\\xc8ln\\x01\\xb4\\x99A\\x89\\xb9%08\\xff\\x00z\\xa7\\xfbD\\xbf\\xf3\\xe7?\\xe6\\x9f\\xfcU\\x00X\\xac_\\x11i\\x97\\x97\\xc3O\\xbb\\xd3\\xbc\\x83{\\xa7\\xdd\\x0b\\x88\\xa3\\xb8r\\x91\\xc8\\n22\\x96\\x01\\x8a\\xfc\\xae\\xd88<\\x81\\xc5i}\\xa2_\\xf9\\xf3\\x9f\\xf3O\\xfe*\\x8f\\xb4K\\xff\\x00>s\\xfei\\xff\\x00\\xc5P\\x06g\\x87\\xb4\\xcb\\xed#M\\x86\\xdeqo$\\xd3M5\\xcd\\xe3\\xa4\\x8c\\x02I#\\x97!\\x01_\\x99Ald\\xed\\xe0g\\x1c\\xe2\\xb3tO\\x0c\\xdd[\\xf8\\x8f\\xfbZ\\xf6\\xc7G\\xb3h\\xe2\\x95\\x07\\xf6j\\x91\\xf6\\xa9$e-4\\x80\\xa8\\xdap\\x80\\x01\\x97\\xfb\\xcd\\xf3\\x1a\\xe9~\\xd1/\\xfc\\xf9\\xcf\\xf9\\xa7\\xff\\x00\\x15G\\xda%\\xff\\x00\\x9f9\\xff\\x004\\xff\\x00\\xe2\\xa8\\xebp0[B\\xbf\\x88k\\x92\\xc5\\x16\\x9bs%\\xe6\\xa1\\x1d\\xe4\\x11]\\x86h\\xc8H\\xe2\\\\1\\xc7\\xca\\xd9\\x8c\\x90\\xc06\\xd3\\x83\\x83\\xd2\\xaa\\x0f\\x08_\\xdfO>\\xa5w\\xaaO\\xa6\\xdf\\xcdp\\xd7\\x1eN\\x9f$sD\\x84\\xc4\\x90\\x8ee\\x84\\xee;S\\xae\\xd5#{\\x0fs\\xd4\\xfd\\xa2_\\xf9\\xf3\\x9f\\xf3O\\xfe*\\x8f\\xb4K\\xff\\x00>s\\xfei\\xff\\x00\\xc5Rj\\xea\\xc3\\xbe\\xb79m/A\\xd7\\xb4\\r\\x0fD\\xb6\\xb6M/S\\xbb\\xb2\\xb3\\xfb4\\x92^\\xb9\\x85\\xa3\\xc8^\"\\x95\"? \\xdb\\x8d\\xa52p\\xa4\\xb6G;6:g\\xf6/\\x84a\\xd3<\\xe37\\xd9,\\x84>a\\x18\\xdd\\xb51\\x9cv\\xad\\x0f\\xb4K\\xff\\x00>s\\xfei\\xff\\x00\\xc5T\\x17\\xb3\\xc8ln\\x01\\xb4\\x99A\\x89\\xb9%08\\xff\\x00z\\xa9\\xb6\\xee\\xc4f\\xd8\\xff\\x00\\xc9B\\xd6\\x7f\\xec\\x15a\\xff\\x00\\xa3n\\xe8\\xa2\\xc7\\xfeJ\\x16\\xb3\\xff\\x00`\\xab\\x0f\\xfd\\x1bwE  \\xd6?\\xe4|\\xd0\\xff\\x00\\xec\\x1fw\\xff\\x00\\xa5\\x16U\\xd4W/\\xac\\x7f\\xc8\\xf9\\xa1\\xff\\x00\\xd8>\\xef\\xff\\x00J,\\xab\\xa8\\xa0\\x02\\xab_\\xdfC\\xa7Z5\\xcc\\xe9p\\xf1\\xa9\\x00\\x8b{y\\'~N8H\\xd4\\xb1\\xfc\\x05Y\\xaa\\x9a\\xa5\\xf2i\\x9aE\\xed\\xfb\\x8c\\xa5\\xb4\\x0f3\\x0feR\\x7f\\xa5);+\\x8d+\\xbb\\x15\\xf4}\\x7fO\\xd7\\x85\\xcf\\xd8\\x1a\\xe0\\x9bY\\x04S,\\xf6\\xb2\\xc0\\xc8\\xf8\\r\\x82$U9\\xc1\\x07\\xf1\\x15n\\xcf\\xfdC\\x7f\\xd7Y?\\xf46\\xac\\xef\\ni\\xe7M\\xf0\\xcd\\x94Rss*y\\xf7.z\\xbc\\xd2|\\xf21\\xfa\\xb3\\x1a\\xd1\\xb3\\xff\\x00P\\xdf\\xf5\\xd6O\\xfd\\r\\xaa\\x9a\\xb3\\xb1)\\xdd\\\\\\xb1E\\x14R\\x18QE\\x14\\x00QEAygm\\xa8ZIiy\\x04s\\xdb\\xca1$R.\\xe5q\\xe8A\\xea=\\xa8\\x02\\xb5\\x9e\\xbb\\xa5\\xea\\x1aC\\xea\\xd6\\xb7\\xd0\\xc9\\xa7\\xa7\\x99\\xba\\xe78@\\x10\\x90\\xe7\\'\\xb0*y\\xe9\\xc6zTr\\xf8\\x8bI\\x83\\xc3\\x83\\xc4\\x13^\\xa4zQ\\x81n\\x05\\xc3\\x82\\x01F\\x00\\xa9\\xc63\\x93\\x91\\x81\\x8c\\xe4\\xe3\\x19\\xac\\x0f\\x0c\\xe9v\\x17\\xbe\\x0c\\x9e\\xd6\\xe6\\xca\\xdekh\\xb5\\x1b\\xd6Hd\\x8c\\x14R\\xb72\\xed\\xc2\\xf4\\xe3\\xb7\\xa5d\\xdd\\xe9\\xf6w\\x9f\\x02m\\xa7\\xb9\\xb5\\x86im\\xb4\\r\\xf04\\x88\\x18\\xc6\\xdeG\\xde\\\\\\xf4>\\xfdi\\xff\\x00\\xc0\\xfcJJ\\xed/6\\x8fA\\xbd!\\xb4\\xdb\\x82:\\x18X\\x8f\\xc8\\xd5\\x8a\\xabs\\xff\\x00 \\x99\\xbf\\xeb\\x83\\x7f\\xe85j\\x93\".\\xe90\\xaaz\\x9e\\xa9g\\xa4Z}\\xa6\\xf6VH\\xcb\\xaa(H\\xdaGv\\'\\x01U\\x14\\x16b}\\x00&\\xaeW1\\xe3\\t\\xe2\\xb1\\xb9\\xf0\\xfe\\xa5w\"\\xc5ai\\xa9n\\xb9\\x99\\xce\\x12 \\xd0\\xcb\\x1a\\xb3\\x13\\xc0\\x1b\\xddFOL\\xd03v\\xc7Q\\xb4\\xd4\\xf4\\xe8\\xb5\\x0b9|\\xebiSz0S\\x92=6\\x91\\x90GB\\x08\\xc8#\\x18\\xcdgX\\xf8\\xb3J\\xd45H\\xf4\\xc8~\\xdf\\x1d\\xe4\\x91\\xb4\\xa9\\x1d\\xce\\x9bqo\\xb9\\x17\\x01\\x882F\\xa3\\x00\\x90:\\xf7\\x15K\\xc1W\\x10\\x8d\\x109\\x95\\x11o\\xef\\xaf.l\\xd1\\x9b\\x06X\\x9ague\\x07\\xa8*Cq\\xd8\\x83T\\xed\\xe4\\xbe\\x94x\\x9f]\\xd3\\xad\\x1a\\xefQk\\x83ah\\x8a\\xc8\\n\\xc7\\x11\\xd9\\xc6\\xf2\\x17\\x872\\xb9\\x04\\x8c\\xf4\\xa3\\xaf\\xcb\\xfc\\xbfV\\x1f\\xd7\\xf5\\xf2GB\\xfe\"\\xd2R\\xdbR\\xb9k\\xe8\\xc4:d\\x86+\\xb7 \\xe2\\'\\n\\x18\\xafNN\\x19zg\\x93\\x8e\\xbcUQ\\xe3\\r\\x10\\xd8=\\xe7\\xda\\'\\n\\xb3\\x8bc\\t\\xb3\\x98O\\xe6\\x91\\xb8 \\x84\\xa7\\x98N\\xdf\\x9b\\x1bzs\\xd3\\x9a\\xf3\\xd8!\\xb9]\\x13\\xc4\\x96\\xb0i\\xb7\\xba|V\\xda\\xd5\\x9d\\xc4\\xb2\\\\\\xf92\\x15U[v\\x91\\x98G#n`\\x14\\xc8\\xc7\\xa1\\xcfRr\\x06\\xa7\\xfc&\\xb6\\x9au\\x8c\\xf3\\xddjv:\\xbe\\xcdC\\xec\\xda6\\xa3x\\xf0\\xc4\\x8e\\xc6 ]\\x9aU\\x01\\x02\\xa6\\xe6\\x05\\xd0\\x0c\\x8f\\x97\\x05\\xba\\x9f\\xf0?O\\xe9\\x07_\\xeb\\xfa\\xf5:\\xd9<g\\xa0\\xc5ckw\\xf6\\xc7x\\xee\\x8b\\xacI\\x15\\xb4\\xb2HJ}\\xfc\\xc6\\xaa]v\\xf4l\\x81\\xb4\\xf5\\xc5i\\xdc\\xcb\\x1c\\xfaL\\xd3C\"\\xc9\\x14\\x903#\\xa1\\xc8`W \\x83\\xdcW\\x00\\xcd\\xa3i\\x16:f\\xafo\\xe3\\r>;\\x97\\xfb_\\x99~\\xc8\\'\\xb7\\xb9iY^eL8U}\\xca6.\\xe2p\\x08\\xda\\xd88\\xe9|3g=\\x87\\xc3\\x8d:\\xd6\\xe9\\x1d\\'\\x8fNP\\xe8\\xe3\\x0c\\xa7gC\\xee:\\x1av\\xd1\\x87bK\\x1f\\xf9(Z\\xcf\\xfd\\x82\\xac?\\xf4m\\xdd\\x14X\\xff\\x00\\xc9B\\xd6\\x7f\\xec\\x15a\\xff\\x00\\xa3n\\xe8\\xa4\\x04\\x1a\\xc7\\xfc\\x8f\\x9a\\x1f\\xfd\\x83\\xee\\xff\\x00\\xf4\\xa2\\xca\\xba\\x8a\\xe7\\xf5\\xed\\x06\\xff\\x00R\\xd5lu\\r?P\\xb4\\xb5\\x96\\xda\\t\\xa0d\\xba\\xb3k\\x84\\x91dx\\x9f\\xa0\\x911\\x83\\x08\\xf5\\xc8&\\xab\\xff\\x00b\\xf8\\x93\\xfe\\x82^\\x1c\\xff\\x00\\xc1\\x14\\x9f\\xfc\\x93@\\x1dE\\x15\\xcb\\xff\\x00b\\xf8\\x93\\xfe\\x82^\\x1c\\xff\\x00\\xc1\\x14\\x9f\\xfc\\x93G\\xf6/\\x89?\\xe8%\\xe1\\xcf\\xfc\\x11I\\xff\\x00\\xc94\\x01\\xd4U{?\\xf5\\r\\xff\\x00]d\\xff\\x00\\xd0\\xda\\xb9\\xff\\x00\\xec_\\x12\\x7f\\xd0K\\xc3\\x9f\\xf8\"\\x93\\xff\\x00\\x92i\\xa9\\xa1x\\x91\\x14\\x8f\\xedO\\x0e\\xb7$\\xe5\\xb49\\x0fS\\x9f\\xf9\\xf9\\xa0\\x0e\\xaa\\x8a\\xe5\\xff\\x00\\xb1|I\\xff\\x00A/\\x0e\\x7f\\xe0\\x8aO\\xfeI\\xa3\\xfb\\x17\\xc4\\x9f\\xf4\\x12\\xf0\\xe7\\xfe\\x08\\xa4\\xff\\x00\\xe4\\x9a\\x00\\xea(\\xae_\\xfb\\x17\\xc4\\x9f\\xf4\\x12\\xf0\\xe7\\xfe\\x08\\xa4\\xff\\x00\\xe4\\x9a?\\xb1|I\\xff\\x00A/\\x0e\\x7f\\xe0\\x8aO\\xfeI\\xa0\\x0e\\xa2\\x8a\\xe5\\xff\\x00\\xb1|I\\xff\\x00A/\\x0e\\x7f\\xe0\\x8aO\\xfeI\\xa3\\xfb\\x17\\xc4\\x9f\\xf4\\x12\\xf0\\xe7\\xfe\\x08\\xa4\\xff\\x00\\xe4\\x9a\\x00\\xea(\\xae_\\xfb\\x17\\xc4\\x9f\\xf4\\x12\\xf0\\xe7\\xfe\\x08\\xa4\\xff\\x00\\xe4\\x9a?\\xb1|I\\xff\\x00A/\\x0e\\x7f\\xe0\\x8aO\\xfeI\\xa0\\x0e\\x82\\xfb\\xfeA\\xf7?\\xf5\\xc9\\xbf\\x91\\xab\\x15\\xca\\xc9\\xa1x\\x92H\\xd9?\\xb5<:\\xbb\\x81\\x1b\\x97C\\x90\\x11\\xf4\\xff\\x00I\\xa7\\x7fb\\xf8\\x93\\xfe\\x82^\\x1c\\xff\\x00\\xc1\\x14\\x9f\\xfc\\x93@\\x1dE\\x15\\xcb\\xff\\x00b\\xf8\\x93\\xfe\\x82^\\x1c\\xff\\x00\\xc1\\x14\\x9f\\xfc\\x93G\\xf6/\\x89?\\xe8%\\xe1\\xcf\\xfc\\x11I\\xff\\x00\\xc94\\x01\\xd4Q\\\\\\xbf\\xf6/\\x89?\\xe8%\\xe1\\xcf\\xfc\\x11I\\xff\\x00\\xc94\\x7fb\\xf8\\x93\\xfe\\x82^\\x1c\\xff\\x00\\xc1\\x14\\x9f\\xfc\\x93@\\x1dE\\x15\\xcb\\xff\\x00b\\xf8\\x93\\xfe\\x82^\\x1c\\xff\\x00\\xc1\\x14\\x9f\\xfc\\x93G\\xf6/\\x89?\\xe8%\\xe1\\xcf\\xfc\\x11I\\xff\\x00\\xc94\\x01\\xd4U{\\xef\\xf9\\x07\\xdc\\xff\\x00\\xd7&\\xfeF\\xb9\\xff\\x00\\xec_\\x12\\x7f\\xd0K\\xc3\\x9f\\xf8\"\\x93\\xff\\x00\\x92i\\xb2h^$\\x926O\\xedO\\x0e\\xae\\xe0F\\xe5\\xd0\\xe4\\x04}?\\xd2h\\x02\\xcd\\x8f\\xfc\\x94-g\\xfe\\xc1V\\x1f\\xfa6\\xee\\x8a\\x97G\\xd1\\xb5+Mf\\xff\\x00T\\xd55\\x1b[\\xb9\\xee\\xad\\xe0\\xb7U\\xb5\\xb3h\\x15\\x16&\\x95\\xb2wH\\xe4\\x92e=\\xc7AE\\x00\\x7f\\xff\\xd9'"
            ]
          },
          "metadata": {
            "tags": []
          },
          "execution_count": 12
        }
      ]
    },
    {
      "cell_type": "code",
      "metadata": {
        "colab": {
          "base_uri": "https://localhost:8080/"
        },
        "id": "euohgxa6Byss",
        "outputId": "08b961da-6e3c-4241-8157-a42dff0ca5db"
      },
      "source": [
        "detect_text(im_bytes)"
      ],
      "execution_count": 13,
      "outputs": [
        {
          "output_type": "stream",
          "text": [
            "Texts:\n",
            "\n",
            "\"Day Frequency Response\n",
            "14\n",
            "0.09983\n",
            "1\n",
            "60\n",
            "0.40242\n",
            "99\n",
            "0.66562\n",
            "3\n",
            "129\n",
            "0.86366\n",
            "4\n",
            "146\n",
            "0.97716\n",
            "149\n",
            "0.99500\n",
            "6\n",
            "137\n",
            "0.91545\n",
            "7\n",
            "111\n",
            "0.74629\n",
            "2.\n",
            "\"\n",
            "bounds: 13,14,185,14,185,239,13,239\n",
            "\n",
            "\"Day\"\n",
            "bounds: 13,14,34,14,34,26,13,26\n",
            "\n",
            "\"Frequency\"\n",
            "bounds: 48,14,113,14,113,26,48,26\n",
            "\n",
            "\"Response\"\n",
            "bounds: 126,14,185,14,185,26,126,26\n",
            "\n",
            "\"14\"\n",
            "bounds: 101,40,113,40,113,50,101,50\n",
            "\n",
            "\"0.09983\"\n",
            "bounds: 141,41,184,41,184,50,141,50\n",
            "\n",
            "\"1\"\n",
            "bounds: 31,68,33,68,33,77,31,77\n",
            "\n",
            "\"60\"\n",
            "bounds: 100,68,112,68,112,77,100,77\n",
            "\n",
            "\"0.40242\"\n",
            "bounds: 141,68,184,68,184,78,141,78\n",
            "\n",
            "\"99\"\n",
            "bounds: 101,95,112,95,112,104,101,104\n",
            "\n",
            "\"0.66562\"\n",
            "bounds: 141,95,185,95,185,104,141,104\n",
            "\n",
            "\"3\"\n",
            "bounds: 30,122,34,122,34,131,30,131\n",
            "\n",
            "\"129\"\n",
            "bounds: 95,122,113,122,113,131,95,131\n",
            "\n",
            "\"0.86366\"\n",
            "bounds: 141,122,184,122,184,131,141,131\n",
            "\n",
            "\"4\"\n",
            "bounds: 29,149,34,149,34,158,29,158\n",
            "\n",
            "\"146\"\n",
            "bounds: 94,149,113,149,113,158,94,158\n",
            "\n",
            "\"0.97716\"\n",
            "bounds: 141,149,184,149,184,158,141,158\n",
            "\n",
            "\"149\"\n",
            "bounds: 94,176,112,176,112,185,94,185\n",
            "\n",
            "\"0.99500\"\n",
            "bounds: 141,176,184,176,184,185,141,185\n",
            "\n",
            "\"6\"\n",
            "bounds: 30,203,35,203,35,212,30,212\n",
            "\n",
            "\"137\"\n",
            "bounds: 94,203,113,203,113,212,94,212\n",
            "\n",
            "\"0.91545\"\n",
            "bounds: 141,203,184,203,184,212,141,212\n",
            "\n",
            "\"7\"\n",
            "bounds: 30,230,35,230,35,239,30,239\n",
            "\n",
            "\"111\"\n",
            "bounds: 94,230,111,230,111,239,94,239\n",
            "\n",
            "\"0.74629\"\n",
            "bounds: 141,230,184,230,184,239,141,239\n",
            "\n",
            "\"2.\"\n",
            "bounds: 36,95,36,106,27,106,27,95\n"
          ],
          "name": "stdout"
        }
      ]
    },
    {
      "cell_type": "code",
      "metadata": {
        "id": "cZY-8_c7Eqgp"
      },
      "source": [
        "ab = tx[0].split(\"\\n\") # text is seperated with \"\\n\"\n"
      ],
      "execution_count": 17,
      "outputs": []
    },
    {
      "cell_type": "code",
      "metadata": {
        "id": "zDpmt_sgCoAE"
      },
      "source": [
        "raw_data= ab[:-1] # do not include last element as it is empty"
      ],
      "execution_count": 20,
      "outputs": []
    },
    {
      "cell_type": "code",
      "metadata": {
        "colab": {
          "base_uri": "https://localhost:8080/"
        },
        "id": "9cnCWm_ABtp3",
        "outputId": "9963af39-9b6f-4f95-d548-d619f170fbf2"
      },
      "source": [
        "raw_data"
      ],
      "execution_count": 21,
      "outputs": [
        {
          "output_type": "execute_result",
          "data": {
            "text/plain": [
              "array(['Day Frequency Response', '14', '0.09983', '1', '60', '0.40242',\n",
              "       '99', '0.66562', '3', '129', '0.86366', '4', '146', '0.97716',\n",
              "       '149', '0.99500', '6', '137', '0.91545', '7', '111', '0.74629',\n",
              "       '2.'], dtype='<U22')"
            ]
          },
          "metadata": {
            "tags": []
          },
          "execution_count": 21
        }
      ]
    }
  ]
}